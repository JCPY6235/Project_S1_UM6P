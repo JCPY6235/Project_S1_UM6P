{
 "cells": [
  {
   "cell_type": "markdown",
   "metadata": {
    "id": "CujifDkXoeqt"
   },
   "source": [
    "**Nom et Prénom :**  MITCHOZOUNOU Sagbo Jean-Claude\n",
    "\n",
    "(Ce mini-projet peut être faire seul ou en binôme)"
   ]
  },
  {
   "cell_type": "markdown",
   "metadata": {
    "id": "kKiJgpXvf7A_"
   },
   "source": [
    "# Mini projet :  Méthode de gradient à pas spectral\n",
    "----\n",
    "Le but de ce mini-projet est de programmer, valider et expérimenter la méthode de gradient avec pas spectral.\n",
    "\n",
    "N.B: N'hésitez pas à diviser vos codes en plusieurs cellules quand c'est possible pour faciliter leurs lectures et éxecutions.\n",
    "\n",
    "----\n",
    "On introduit les deux notations :\n",
    "\n",
    "$$ \\left\\{\n",
    "\\begin{array}{ccc}\n",
    "s^{(k-1)} & = & u^{(k)} - u^{(k-1)} \\\\\n",
    "y^{(k-1)} & = & \\nabla J(u^{(k)}) - \\nabla J(u^{(k-1)}) \\\\\n",
    " \\end{array}\n",
    "\\right.\n",
    "$$\n",
    "\n",
    "**Etape 1**\n",
    "\n",
    "Reprendre un algorithme de minimisation par gradient à pas variable (ou à pas fixe) :\n",
    "\n",
    "\\begin{equation}\n",
    "u^{(0)} \\textrm{ donné}; \\quad u^{(k+1)} = u^{(k)} - \\rho_k \\nabla J(u^{(k)})\n",
    "\\end{equation}\n",
    "\n",
    "\n",
    "> Modifier cet algorithme de sorte à ce que le pas $\\rho_k$ soit donné par l'une des deux variantes, dites de Barzilaï et Borwein :\n",
    "\n",
    "$$\n",
    "\\rho^1_k = \\dfrac{(s^{(k-1)} ,s^{(k-1)})}{(y^{(k-1)} ,s^{(k-1)})} ;\n",
    "\\qquad \n",
    "\\rho^2_k = \\dfrac{(s^{(k-1)} ,y^{(k-1)})}{(y^{(k-1)} ,y^{(k-1)})}; \n",
    "\\quad \n",
    "\\text{ pour } k\\geq 1\n",
    "$$\n",
    "Cet algorithme (noté BB1 et BB2 selon variante) nécessite donc un pré-calcul du vecteur $u^{(1)}$ avec un pas initial $\\rho_0$. A vous de choisir ce premier pas $\\rho_0$ comme vous voulez.\n"
   ]
  },
  {
   "cell_type": "code",
   "execution_count": 2,
   "metadata": {
    "id": "MosT5P_kmz4T"
   },
   "outputs": [],
   "source": [
    "import numpy as np\n",
    "import matplotlib.pyplot as plt"
   ]
  },
  {
   "cell_type": "code",
   "execution_count": 3,
   "metadata": {},
   "outputs": [],
   "source": [
    "## Fonction J\n",
    "def J(v):\n",
    "    return [0.5*np.dot(v,v),v] # C'est juste une fonction prise pour pouvoir implémenter l'algo\n",
    "\n",
    "def cost(v):\n",
    "    return J(v)"
   ]
  },
  {
   "cell_type": "markdown",
   "metadata": {},
   "source": [
    "**Implémentation de l'algorithme de BB1**"
   ]
  },
  {
   "cell_type": "code",
   "execution_count": 4,
   "metadata": {},
   "outputs": [],
   "source": [
    "## implémenter l'algorithme BB1 \n",
    "\n",
    "def Algo_BB1(eps,Kmax,t,u0,cost):\n",
    "    \n",
    "\n",
    "# Précalcul de U_1\n",
    "    u1 = u0 + t*cost(u0)[1]\n",
    "##.....................................##\n",
    "    Y_1 = []\n",
    "    U_k1 = u0\n",
    "    U_k2 = u1\n",
    "    val = 1\n",
    "    l = 0\n",
    "\n",
    "    while np.linalg.norm(val) > eps and l < Kmax:\n",
    "        Y_1.append(cost(U_k2)[0])\n",
    "        \n",
    "        s_k1 = U_k2 - U_k1\n",
    "        y_k1 = cost(U_k2)[1] -cost(U_k1)[1]\n",
    "        \n",
    "        t1 = (np.dot(s_k1,s_k1))/(np.dot(y_k1,s_k1))\n",
    "        \n",
    "        U_k1 = U_k2\n",
    "        U_k = U_k2 - t1*cost(U_k2)[1]\n",
    "        val = cost(U_k)[1]\n",
    "        U_k2 = U_k\n",
    "        l+=1\n",
    "    return [U_k2,Y_1,l]\n",
    "    \n"
   ]
  },
  {
   "cell_type": "markdown",
   "metadata": {},
   "source": [
    "**Implémentation de l'algorithme de BB2**"
   ]
  },
  {
   "cell_type": "code",
   "execution_count": 5,
   "metadata": {},
   "outputs": [],
   "source": [
    "## implémenter l'algorithme BB2\n",
    "\n",
    "def Algo_BB2(eps,Kmax,t,u0,cost):\n",
    "    \n",
    "\n",
    "# Précalcul de U_1\n",
    "    u1 = u0 + t*cost(u0)[1]\n",
    "\n",
    "##...................................##\n",
    "\n",
    "    Y_1 = []\n",
    "    U_k1 = u0\n",
    "    U_k2 = u1\n",
    "    val = 1\n",
    "    l = 0\n",
    "\n",
    "    while np.linalg.norm(val) > eps and l < Kmax:\n",
    "        Y_1.append(cost(U_k2)[0])\n",
    "        \n",
    "        s_k1 = U_k2 - U_k1\n",
    "        y_k1 = cost(U_k2)[1] -cost(U_k1)[1]\n",
    "\n",
    "        t2 = (np.dot(s_k1,y_k1))/(np.dot(y_k1,y_k1))\n",
    "        \n",
    "        U_k1 = U_k2\n",
    "        U_k = U_k2 - t2*cost(U_k2)[1]\n",
    "        val = cost(U_k)[1]\n",
    "        U_k2 = U_k\n",
    "        l+=1\n",
    "    return [U_k2,Y_1,l]\n"
   ]
  },
  {
   "cell_type": "markdown",
   "metadata": {
    "id": "G0PYDmhfmdy4"
   },
   "source": [
    "----\n",
    "**Etape 2**\n",
    "\n",
    "> Effectuer les tests de validation pour les fonctions quadratiques suivantes ($N=10$): \n",
    "\n",
    "$$J_1(v) = \\sum_{i=1}^{i=N}{(v_i - 1)^2}, \\quad J_2(v) = \\sum_{i=1}^{i=N}{(v_i - i)^2}$$\n"
   ]
  },
  {
   "cell_type": "code",
   "execution_count": 6,
   "metadata": {
    "id": "e5MgYHQSmzD7"
   },
   "outputs": [],
   "source": [
    "# Définition des fonction J1 et J2 avec calcul de leur gradient\n",
    "def J1 (v): # retourne la valeur de la fonction et de sont gradient\n",
    "    N = len(v)\n",
    "    ones = np.ones (N)\n",
    "    return [np.dot(v-ones,v-ones), 2*(v-ones)]\n",
    "\n",
    "def J2 (v):\n",
    "    N = len(v)\n",
    "    I = np.arange(1,N+1,1)\n",
    "    return [np.dot(v-I, v-I),2*(v-I)]\n",
    "\n",
    "def costJ1(v):\n",
    "    return J1(v)\n",
    "\n",
    "def costJ2(v):\n",
    "    return J2(v)\n"
   ]
  },
  {
   "cell_type": "code",
   "execution_count": 7,
   "metadata": {},
   "outputs": [],
   "source": [
    "# N=40 ; #nombre de variables d'optimisation (ou dimension du probleme)\n",
    "eps = 1.e-7; # tolerance sur la norme du gradient\n",
    "Kmax = 1500 ; # nombre max d'iterations\n",
    "uo = [1,1,1]"
   ]
  },
  {
   "cell_type": "markdown",
   "metadata": {},
   "source": [
    "$Test \\ de \\ validation \\ de \\ BB1 \\ pour \\ J1 \\ et \\ J2 $"
   ]
  },
  {
   "cell_type": "code",
   "execution_count": 8,
   "metadata": {},
   "outputs": [
    {
     "name": "stdout",
     "output_type": "stream",
     "text": [
      "Validaion pour J1[1. 1. 1. 1. 1. 1. 1. 1. 1. 1.] et celle pour J2[ 1.  2.  3.  4.  5.  6.  7.  8.  9. 10.]\n"
     ]
    }
   ],
   "source": [
    "N = 10\n",
    "t = 0.1\n",
    "u0 = np.zeros(N)\n",
    "j1b1 = Algo_BB1(1.e-7,Kmax,t,u0,costJ1)[0]\n",
    "j2b1 = Algo_BB1(1.e-7,Kmax,t,u0,costJ2)[0]\n",
    "\n",
    "print(f\"Validaion pour J1{j1b1} et celle pour J2{j2b1}\")\n"
   ]
  },
  {
   "cell_type": "markdown",
   "metadata": {},
   "source": [
    "$Test \\ de \\ validation \\ de \\ BB2 \\ pour \\ J1 \\ et \\ J2 $"
   ]
  },
  {
   "cell_type": "code",
   "execution_count": 9,
   "metadata": {},
   "outputs": [
    {
     "name": "stdout",
     "output_type": "stream",
     "text": [
      "Validaion pour J1[1. 1. 1. 1. 1. 1. 1. 1. 1. 1.] et celle pour J2[ 1.  2.  3.  4.  5.  6.  7.  8.  9. 10.]\n"
     ]
    }
   ],
   "source": [
    "j1b2 = Algo_BB2(1.e-7,Kmax,t,u0,costJ1)[0]\n",
    "j2b2 = Algo_BB2(1.e-7,Kmax,t,u0,costJ2)[0]\n",
    "\n",
    "print(f\"Validaion pour J1{j1b2} et celle pour J2{j2b2}\")"
   ]
  },
  {
   "cell_type": "markdown",
   "metadata": {
    "id": "Jy4mCdyemTew"
   },
   "source": [
    "----\n",
    "**Etape 3**\n",
    "\n",
    "On considère les fonctions suivantes (en dimension $N$): \n",
    "\n",
    "$$\n",
    "J_5(v) =\\frac{1}{2}(Av,v)-(f,v) + \\sum_{i=1}^{i=N}{(v_i)^2}, \\quad \\quad \\quad \n",
    "J_6(v) =\\frac{1}{2}(Av,v)-(f,v) + \\sum_{i=1}^{i=N}{(v_i)^4}\n",
    "$$\n",
    "\n",
    "avec $f=(1,\\ldots,1)$ et la matrice $A = {\\rm tridiag}[-1, 2, -1]$ et la fonction de Rosenbrock \n",
    "\n",
    "$$\n",
    "J_R(v) = \\sum_{i=1}^{N-1}(v_{i+1}-v_i^2)^2 + \\sum_{i=1}^{N-1} (v_i - 1)^2\n",
    "$$\n",
    "\n",
    "> Minimiser les fonctions $J_5$, $J_6$  et $J_R$ par BB1 et par BB2 (pour $N=10, 20, 40$), et comparer les performances de ces deux variantes en traçant sur un même graphique les courbes BB1 et BB2 de $J(u^{(k)})$ en fonction des itérations $k$."
   ]
  },
  {
   "cell_type": "code",
   "execution_count": 55,
   "metadata": {
    "id": "dQpuSZ6Umx1n"
   },
   "outputs": [],
   "source": [
    "## JR Rosenbrock\n",
    "def JR_old_ (v):\n",
    "    N = len (v)\n",
    "    J_r = 0\n",
    "    for i in range(N-1):\n",
    "        J_r += (v[i+1]-v[i]**2)**2 + (v[i]-1)**2\n",
    "\n",
    "    Grad_J = [-4*v[0]*(v[1]-v[0]**2) + 2*(v[0]-1)]\n",
    "    for j in range(1,N-1):\n",
    "        Grad_J.append(-4*v[j]*(v[j+1]-v[j]**2) + 2*(2*v[j]-v[j-1]-1))\n",
    "   \n",
    "    Grad_J.append(2*(v[N-1]-v[N-2]**2))\n",
    "  \n",
    "    return [J_r,np.array(Grad_J)]\n",
    "\n",
    "def JR (v):\n",
    "    N = len (v)\n",
    "    w1, w2,ones = v[:-1] , v[1:], np.ones(N-1)\n",
    "    dw1 = w2 - w1*w1\n",
    "    dw2 = w1 - ones\n",
    "    diff1 = np.zeros(N)\n",
    "    diff1[1: ]  = 2*dw1\n",
    "    diff1[:-1] -= 4*w1*dw1\n",
    "    diff2 = np.zeros(N)\n",
    "    diff2[:-1] = 2*dw2\n",
    "    return np.dot(dw1,dw1) + np.dot(dw2,dw2) , diff1 + diff2\n",
    "\n",
    "\n",
    "def J5(v):\n",
    "    N = len(v)\n",
    "    A = np.diag(np.ones(N-1),1) + np.diag(np.ones(N-1),-1)+ 2*np.eye(N)\n",
    "    f = np.ones(N)\n",
    "    return [0.5*np.dot(np.dot(A,v),v) - np.dot(f,v) + np.dot(v,v), np.dot(A,v) - f + [2*l for l in v]]\n",
    "\n",
    "def J6(v):\n",
    "    N = len(v)\n",
    "    A = np.diag(np.ones(N-1),1) + np.diag(np.ones(N-1),-1)+ 2*np.eye(N)\n",
    "    f = np.ones(N)\n",
    "    return [0.5*np.dot(np.dot(A,v),v) - np.dot(f,v) + np.dot(v,v)**2, np.dot(A,v) - f + [4*l**3 for l in v]]\n",
    "\n",
    "def costJ5(v):\n",
    "    return J5(v)\n",
    "\n",
    "def costJ6(v):\n",
    "    return J6(v)\n",
    "\n",
    "def costJR(v):\n",
    "    return JR(v)"
   ]
  },
  {
   "cell_type": "markdown",
   "metadata": {},
   "source": [
    "$Minimisation \\ de \\ J_5 \\ J_6 \\ J_R \\ par \\ BB1 \\ pour \\ N = 10,20,40$\n"
   ]
  },
  {
   "cell_type": "code",
   "execution_count": 56,
   "metadata": {},
   "outputs": [
    {
     "name": "stdout",
     "output_type": "stream",
     "text": [
      "Pour N = 10 les solution de J5,J6 et JR sont respectivement: \n",
      " U5=[0.21132458 0.15470172 0.16986855 0.16582406 0.1668352  0.1668352\n",
      " 0.16582406 0.16986855 0.15470172 0.21132458], \n",
      "\n",
      " U6=[0.33123223 0.19217126 0.25603786 0.22861435 0.23893976 0.23893976\n",
      " 0.22861435 0.25603786 0.19217126 0.33123223] et \n",
      "\n",
      " UR=[1.         1.         1.         1.         1.         1.\n",
      " 0.99999999 0.99999997 0.99999992 0.99999979]\n",
      "\n",
      "\n",
      "Pour N = 20 les solution de J5,J6 et JR sont respectivement: \n",
      " U5=[0.21132486 0.15470054 0.16987298 0.16580754 0.16689687 0.16660499\n",
      " 0.16668319 0.16666225 0.16666783 0.16666644 0.16666644 0.16666783\n",
      " 0.16666225 0.16668319 0.16660499 0.16689687 0.16580754 0.16987298\n",
      " 0.15470054 0.21132486], \n",
      "\n",
      " U6=[0.33128184 0.19200669 0.25639029 0.22779645 0.24073427 0.23492988\n",
      " 0.23754094 0.23637457 0.23688216 0.23669226 0.23669226 0.23688216\n",
      " 0.23637457 0.23754094 0.23492988 0.24073427 0.22779645 0.25639029\n",
      " 0.19200669 0.33128184] et \n",
      "\n",
      " UR=[1.         1.         1.         1.         1.         1.\n",
      " 1.         1.         1.         1.         1.         1.\n",
      " 1.         1.         1.         1.         1.         1.\n",
      " 0.99999999 0.99999998]\n",
      "\n",
      "\n",
      "Pour N = 40 les solution de J5,J6 et JR sont respectivement: \n",
      " U5=[0.21132486 0.15470054 0.16987298 0.16580754 0.16689687 0.16660499\n",
      " 0.16668319 0.16666224 0.16666785 0.16666635 0.16666675 0.16666665\n",
      " 0.16666667 0.16666667 0.16666667 0.16666667 0.16666667 0.16666667\n",
      " 0.16666667 0.16666667 0.16666667 0.16666667 0.16666667 0.16666667\n",
      " 0.16666667 0.16666667 0.16666667 0.16666667 0.16666665 0.16666675\n",
      " 0.16666635 0.16666785 0.16666224 0.16668319 0.16660499 0.16689687\n",
      " 0.16580754 0.16987298 0.15470054 0.21132486], \n",
      "\n",
      " U6=[0.33128186 0.19200663 0.25639041 0.22779617 0.2407349  0.23492851\n",
      " 0.23754396 0.23636784 0.2368971  0.23665904 0.23676612 0.23671797\n",
      " 0.23673961 0.2367299  0.23673425 0.23673231 0.23673316 0.23673279\n",
      " 0.23673295 0.23673289 0.23673289 0.23673295 0.23673279 0.23673316\n",
      " 0.23673231 0.23673425 0.2367299  0.23673961 0.23671797 0.23676612\n",
      " 0.23665904 0.2368971  0.23636784 0.23754396 0.23492851 0.2407349\n",
      " 0.22779617 0.25639041 0.19200663 0.33128186] et \n",
      "\n",
      " UR=[1. 1. 1. 1. 1. 1. 1. 1. 1. 1. 1. 1. 1. 1. 1. 1. 1. 1. 1. 1. 1. 1. 1. 1.\n",
      " 1. 1. 1. 1. 1. 1. 1. 1. 1. 1. 1. 1. 1. 1. 1. 1.]\n",
      "\n",
      "\n"
     ]
    }
   ],
   "source": [
    "M = [10,20,40]\n",
    "t = 0.1\n",
    "\n",
    "for N in M:\n",
    "    u0 = np.zeros(N)\n",
    "    j5b1 = Algo_BB1(1.e-7,Kmax,t,u0,costJ5)\n",
    "    j6b1 = Algo_BB1(1.e-7,Kmax,t,u0,costJ6)\n",
    "    jRb1 = Algo_BB1(1.e-7,Kmax,t,u0,costJR)\n",
    "    print(f\"Pour N = {N} les solution de J5,J6 et JR sont respectivement: \\n U5={j5b1[0]}, \\n\\n U6={j6b1[0]} et \\n\\n UR={jRb1[0]}\")\n",
    "    print(\"\\n\")\n"
   ]
  },
  {
   "cell_type": "markdown",
   "metadata": {},
   "source": [
    "$Minimisation \\ de \\ J_5 \\ J_6 \\ J_R \\ par \\ BB2 \\ pour \\ N = 10,20,40$\n",
    " "
   ]
  },
  {
   "cell_type": "code",
   "execution_count": 57,
   "metadata": {},
   "outputs": [
    {
     "name": "stdout",
     "output_type": "stream",
     "text": [
      "Pour N = 10 les solution de J5,J6 et JR sont respectivement: \n",
      " U5=[0.21132457 0.15470172 0.16986855 0.16582407 0.16683519 0.16683519\n",
      " 0.16582407 0.16986855 0.15470172 0.21132457], \n",
      "\n",
      " U6=[0.33123222 0.19217127 0.25603788 0.22861435 0.23893975 0.23893975\n",
      " 0.22861435 0.25603788 0.19217127 0.33123222]et \n",
      "\n",
      " UR=[1.         1.         1.         1.         1.         1.\n",
      " 1.         0.99999999 0.99999999 0.99999996]\n",
      "\n",
      "\n",
      "Pour N = 20 les solution de J5,J6 et JR sont respectivement: \n",
      " U5=[0.21132486 0.15470054 0.16987298 0.16580754 0.16689687 0.16660499\n",
      " 0.16668319 0.16666225 0.16666783 0.16666644 0.16666644 0.16666783\n",
      " 0.16666225 0.16668319 0.16660499 0.16689687 0.16580754 0.16987298\n",
      " 0.15470054 0.21132486], \n",
      "\n",
      " U6=[0.33128184 0.19200668 0.2563903  0.22779644 0.24073429 0.23492987\n",
      " 0.23754095 0.23637456 0.23688217 0.23669226 0.23669226 0.23688217\n",
      " 0.23637456 0.23754095 0.23492987 0.24073429 0.22779644 0.2563903\n",
      " 0.19200668 0.33128184]et \n",
      "\n",
      " UR=[1.         1.         1.         1.         1.         1.\n",
      " 1.00000001 1.         1.         1.         1.         1.\n",
      " 1.         1.         1.         1.         1.         0.99999999\n",
      " 0.99999998 0.99999995]\n",
      "\n",
      "\n",
      "Pour N = 40 les solution de J5,J6 et JR sont respectivement: \n",
      " U5=[0.21132486 0.15470054 0.16987298 0.16580754 0.16689687 0.16660499\n",
      " 0.16668319 0.16666224 0.16666785 0.16666635 0.16666675 0.16666664\n",
      " 0.16666667 0.16666667 0.16666667 0.16666667 0.16666667 0.16666667\n",
      " 0.16666667 0.16666667 0.16666667 0.16666667 0.16666667 0.16666667\n",
      " 0.16666667 0.16666667 0.16666667 0.16666667 0.16666664 0.16666675\n",
      " 0.16666635 0.16666785 0.16666224 0.16668319 0.16660499 0.16689687\n",
      " 0.16580754 0.16987298 0.15470054 0.21132486], \n",
      "\n",
      " U6=[0.33128187 0.19200662 0.25639043 0.22779615 0.24073492 0.23492849\n",
      " 0.23754399 0.23636782 0.23689714 0.23665901 0.23676615 0.23671795\n",
      " 0.23673963 0.23672988 0.23673427 0.2367323  0.23673318 0.23673278\n",
      " 0.23673296 0.23673289 0.23673289 0.23673296 0.23673278 0.23673318\n",
      " 0.2367323  0.23673427 0.23672988 0.23673963 0.23671795 0.23676615\n",
      " 0.23665901 0.23689714 0.23636782 0.23754399 0.23492849 0.24073492\n",
      " 0.22779615 0.25639043 0.19200662 0.33128187]et \n",
      "\n",
      " UR=[1.         1.         1.         1.         1.         1.\n",
      " 1.         1.         1.         1.         1.         1.\n",
      " 1.         1.         1.         1.         1.         1.\n",
      " 1.         1.         1.         1.         1.         1.\n",
      " 1.         1.         1.         1.         1.         1.\n",
      " 1.         1.         1.         1.         1.         1.\n",
      " 0.99999999 0.99999997 0.99999993 0.99999983]\n",
      "\n",
      "\n"
     ]
    }
   ],
   "source": [
    "M = [10,20,40]\n",
    "t = 0.1\n",
    "\n",
    "for N in M:\n",
    "    u0 = np.zeros(N)\n",
    "    j5b2 = Algo_BB2(1.e-7,Kmax,t,u0,costJ5)\n",
    "    j6b2 = Algo_BB2(1.e-7,Kmax,t,u0,costJ6)\n",
    "    jRb2 = Algo_BB2(1.e-7,Kmax,t,u0,costJR)\n",
    "    print(f\"Pour N = {N} les solution de J5,J6 et JR sont respectivement: \\n U5={j5b2[0]}, \\n\\n U6={j6b2[0]}et \\n\\n UR={jRb2[0]}\")\n",
    "    print(\"\\n\")\n"
   ]
  },
  {
   "cell_type": "markdown",
   "metadata": {},
   "source": [
    "**Comparaison des performances des deux variantes BB1 et BB2 pour N = 40.**\n"
   ]
  },
  {
   "cell_type": "code",
   "execution_count": 58,
   "metadata": {},
   "outputs": [],
   "source": [
    "N = 20\n",
    "u0 = np.zeros(N)\n",
    "J5b1 = Algo_BB1(1.e-7,Kmax,t,u0,costJ5)\n",
    "J6b1 = Algo_BB1(1.e-7,Kmax,t,u0,costJ6)\n",
    "JRb1 = Algo_BB1(1.e-7,Kmax,t,u0,costJR)\n",
    "J5b2 = Algo_BB2(1.e-7,Kmax,t,u0,costJ5)\n",
    "J6b2 = Algo_BB2(1.e-7,Kmax,t,u0,costJ6)\n",
    "JRb2 = Algo_BB2(1.e-7,Kmax,t,u0,costJR)"
   ]
  },
  {
   "cell_type": "code",
   "execution_count": 65,
   "metadata": {},
   "outputs": [
    {
     "name": "stdout",
     "output_type": "stream",
     "text": [
      "Nombre d'tération pour BB1: k=14 \n",
      "Nombre d'tération pour BB2: k=14 \n"
     ]
    },
    {
     "data": {
      "text/plain": [
       "<matplotlib.legend.Legend at 0x15c715e1310>"
      ]
     },
     "execution_count": 65,
     "metadata": {},
     "output_type": "execute_result"
    },
    {
     "data": {
      "image/png": "[encoded data removed]",
      "text/plain": [
       "<Figure size 640x480 with 1 Axes>"
      ]
     },
     "metadata": {},
     "output_type": "display_data"
    }
   ],
   "source": [
    "#Performance de BB1 et BB2 sur la fonction J5  \n",
    "print(f\"Nombre d'tération pour BB1: k={J5b1[2]} \")\n",
    "print(f\"Nombre d'tération pour BB2: k={J5b2[2]} \")\n",
    "   \n",
    "plt.figure()\n",
    "plt.plot(np.arange(J5b1[2]),J5b1[1],'r.-',label = f'BB1:J5 pour N = {N}')\n",
    "plt.plot(np.arange(J5b2[2]),J5b2[1], label = f'BB2:J5 pour N = {N}')\n",
    "plt.xlabel(\"iteration\")\n",
    "plt.ylabel(\"J(u)\")\n",
    "plt.legend()\n"
   ]
  },
  {
   "cell_type": "code",
   "execution_count": 66,
   "metadata": {},
   "outputs": [
    {
     "name": "stdout",
     "output_type": "stream",
     "text": [
      "Nombre d'tération pour BB1: k=22 \n",
      "Nombre d'tération pour BB2: k=23 \n"
     ]
    },
    {
     "data": {
      "text/plain": [
       "<matplotlib.legend.Legend at 0x15c729823d0>"
      ]
     },
     "execution_count": 66,
     "metadata": {},
     "output_type": "execute_result"
    },
    {
     "data": {
      "image/png": "[encoded data removed]",
      "text/plain": [
       "<Figure size 640x480 with 1 Axes>"
      ]
     },
     "metadata": {},
     "output_type": "display_data"
    }
   ],
   "source": [
    "#Performance de BB1 et BB2 sur la fonction J6  \n",
    "print(f\"Nombre d'tération pour BB1: k={J6b1[2]} \")\n",
    "print(f\"Nombre d'tération pour BB2: k={J6b2[2]} \")\n",
    "\n",
    "plt.figure\n",
    "plt.plot(np.arange(J6b1[2]),J6b1[1], label = f'BB1:J6 pour N = {N}')\n",
    "plt.plot(np.arange(J6b2[2]),J6b2[1],'b.', label = f'BB2:J6 pour N = {N}')\n",
    "plt.xlabel(\"iteration\")\n",
    "plt.ylabel(\"J(u)\")\n",
    "plt.legend()"
   ]
  },
  {
   "cell_type": "code",
   "execution_count": 67,
   "metadata": {},
   "outputs": [
    {
     "name": "stdout",
     "output_type": "stream",
     "text": [
      "Nombre d'tération pour BB1: k=71 \n",
      "Nombre d'tération pour BB2: k=56 \n"
     ]
    },
    {
     "data": {
      "text/plain": [
       "<matplotlib.legend.Legend at 0x15c7135f910>"
      ]
     },
     "execution_count": 67,
     "metadata": {},
     "output_type": "execute_result"
    },
    {
     "data": {
      "image/png": "[encoded data removed]",
      "text/plain": [
       "<Figure size 640x480 with 1 Axes>"
      ]
     },
     "metadata": {},
     "output_type": "display_data"
    }
   ],
   "source": [
    "#Performance de BB1 et BB2 sur la fonction de Rosenbrock JR  \n",
    "print(f\"Nombre d'tération pour BB1: k={JRb1[2]} \")\n",
    "print(f\"Nombre d'tération pour BB2: k={JRb2[2]} \")\n",
    "\n",
    "plt.figure\n",
    "plt.plot(np.arange(JRb1[2]),JRb1[1], label = f'BB1:JR pour N = {N}')\n",
    "plt.plot(np.arange(JRb2[2]),JRb2[1], label = f'BB2:JR pour N = {N}')\n",
    "plt.xlabel(\"iteration\")\n",
    "plt.ylabel(\"J(u)\")\n",
    "plt.legend()"
   ]
  },
  {
   "cell_type": "markdown",
   "metadata": {},
   "source": [
    "# Commentaires sur les performances des variantes BB1 et BB2\n",
    "\n",
    "> Après analyse des différentes courbes, on conlut que pour un vecteur de taille 20,les deux variantes ont une performances presque équivalentes sur les fonction $J_5$ et $J_6$. Néanmoins sur la fonction de Rosenbrock $J_R$ la variante BB1 est moins performante  que la variante BB2 car l'argmin est atteint en plus de 70 itérations par BB1 contrairement à BB2 qui l'atteint en moins de 60 itérations."
   ]
  },
  {
   "cell_type": "markdown",
   "metadata": {
    "id": "Z9MYg6DKkQ_2"
   },
   "source": [
    "**Etape 4**\n",
    "\n",
    "> Comparer pour la fonction $J_R$ les performances des méthodes BB1 (ou BB2) et de l'algorithme NLCG (Fletcher-Reeves à pas constant) développé en TP2 : Comme avant, cette comparaison doit être faite en traçant les courbes de $J(u^{(k)})$ en fonction des itérations $k$ pour les différents algorithmes. \n",
    "\n",
    "> Refaire la même chose pour la fonction $J_H$ (du TP1).\n",
    "\n",
    "On rappelle que $J_H$ est donnée par $J_H (x, y) = (x^2 +y−2)^2 +(y^2 −2x+1)^2$."
   ]
  },
  {
   "cell_type": "markdown",
   "metadata": {},
   "source": [
    "**Implémentation de l'algorithme de NLGC**"
   ]
  },
  {
   "cell_type": "code",
   "execution_count": 68,
   "metadata": {
    "id": "3qd0djtRf7Be"
   },
   "outputs": [],
   "source": [
    "## Implémenter l'algorithme \n",
    "def Algo_NLGC(eps,Kmax,t,u0,cost):\n",
    "    \n",
    "    uk = u0\n",
    "    a = 1\n",
    "    j = 0\n",
    "    dk = cost(u0)[1]\n",
    "    y = []\n",
    "    while a > eps:\n",
    "        y.append(cost(uk)[0])\n",
    "        Gk1 = cost(uk)[1]\n",
    "        uk = uk - t*dk\n",
    "        Gk = cost(uk)[1]\n",
    "        ck =  np.dot(Gk,Gk)/np.dot(Gk1,Gk1)\n",
    "        dk = cost(uk)[1] + ck*dk\n",
    "        a = np.linalg.norm(dk)\n",
    "        j+=1\n",
    "    return [uk,y,j]\n",
    "\n"
   ]
  },
  {
   "cell_type": "markdown",
   "metadata": {},
   "source": [
    "**Test de validation de NLGC pour JR**"
   ]
  },
  {
   "cell_type": "code",
   "execution_count": 99,
   "metadata": {},
   "outputs": [],
   "source": [
    "#n = 10\n",
    "#u0 = np.ones(n)\n",
    "#t = 0.1\n",
    "#nlgc = Algo_NLGC(1.e-7,Kmax,t,u0,costJR)\n",
    "#print(f\"Validaion pour JR: {nlgc[0]}\")"
   ]
  },
  {
   "cell_type": "markdown",
   "metadata": {},
   "source": [
    "**Comparons pour la fonction $J_R$ les performances des méthodes BB2 et de l'algorithme NLCG (Fletcher-Reeves à pas constant).**"
   ]
  },
  {
   "cell_type": "code",
   "execution_count": 95,
   "metadata": {},
   "outputs": [
    {
     "name": "stdout",
     "output_type": "stream",
     "text": [
      "Nombre d'tération pour NLGC: k=82 \n",
      "Nombre d'tération pour BB2: k=62 \n"
     ]
    },
    {
     "data": {
      "text/plain": [
       "<matplotlib.legend.Legend at 0x15c74189310>"
      ]
     },
     "execution_count": 95,
     "metadata": {},
     "output_type": "execute_result"
    },
    {
     "data": {
      "image/png": "[encoded data removed]",
      "text/plain": [
       "<Figure size 640x480 with 1 Axes>"
      ]
     },
     "metadata": {},
     "output_type": "display_data"
    }
   ],
   "source": [
    "N = 10\n",
    "t = 0.1\n",
    "u0 = np.zeros(N)\n",
    "JRb2 = Algo_BB2(1.e-7,Kmax,t,u0,costJR)\n",
    "NLGC = Algo_NLGC(1.e-7,Kmax,t,u0,costJR)\n",
    "print(f\"Nombre d'tération pour NLGC: k={NLGC[2]} \")\n",
    "print(f\"Nombre d'tération pour BB2: k={JRb2[2]} \")\n",
    "\n",
    "plt.figure()\n",
    "plt.plot(np.arange(NLGC[2]),NLGC[1], label = f'NLGC:JR pour N = {N}')\n",
    "plt.plot(np.arange(JRb2[2]),JRb2[1], label = f'BB2:JR pour N = {N}')\n",
    "plt.xlabel(\"iteration\")\n",
    "plt.ylabel(\"J(u)\")\n",
    "plt.legend()"
   ]
  },
  {
   "cell_type": "markdown",
   "metadata": {},
   "source": [
    "# Commentaire sur les performances de BB2 et NLGC sur $J_R$.\n",
    "\n",
    "> Après analyse des différentes courbes, on conlut que pour un vecteur de taille 10, sur la fonction de Rosenbrock  $J_R$  la méthode BB2 est moins performante   que la méthode NLGC    car l'argmin est atteint en plus de 50 itérations par BB2 contrairement à NLGC qui l'atteint en moins de 20 itérations."
   ]
  },
  {
   "cell_type": "markdown",
   "metadata": {},
   "source": [
    "**Faisons la même chose pour la fonction $J_H$.**\n",
    ">  $J_H (x, y) = (x^2 +y−2)^2 +(y^2 −2x+1)^2$"
   ]
  },
  {
   "cell_type": "code",
   "execution_count": 96,
   "metadata": {},
   "outputs": [
    {
     "data": {
      "text/plain": [
       "[5, array([-4, -4])]"
      ]
     },
     "execution_count": 96,
     "metadata": {},
     "output_type": "execute_result"
    }
   ],
   "source": [
    "def JH(u):\n",
    "    J = (u[0]**2 +u[1]-2)**2 + (u[1]**2-2*u[0]+1)**2\n",
    "    Grad = [4*u[0]*(u[0]**2 +u[1]-2)-4*(u[1]**2-2*u[0]+1), 2*(u[0]**2 +u[1]-2)+4*u[1]*(u[1]**2-2*u[0]+1)**2]\n",
    "    return [J, np.array(Grad)]\n",
    "JH([0,0])"
   ]
  },
  {
   "cell_type": "code",
   "execution_count": 97,
   "metadata": {},
   "outputs": [],
   "source": [
    "def costJH(v):\n",
    "    return JH(v)"
   ]
  },
  {
   "cell_type": "code",
   "execution_count": 101,
   "metadata": {},
   "outputs": [
    {
     "name": "stdout",
     "output_type": "stream",
     "text": [
      "Nombre d'tération pour NLGC: k=24 \n",
      "Nombre d'tération pour BB2: k=36 \n"
     ]
    },
    {
     "data": {
      "text/plain": [
       "<matplotlib.legend.Legend at 0x15c740b8390>"
      ]
     },
     "execution_count": 101,
     "metadata": {},
     "output_type": "execute_result"
    },
    {
     "data": {
      "image/png": "[encoded data removed]",
      "text/plain": [
       "<Figure size 640x480 with 1 Axes>"
      ]
     },
     "metadata": {},
     "output_type": "display_data"
    }
   ],
   "source": [
    "u0 = np.array([0,0])\n",
    "JHb2 = Algo_BB2(1.e-7,Kmax,t,u0,costJH)\n",
    "NLGC = Algo_NLGC(1.e-7,Kmax,t,u0,costJH)\n",
    "print(f\"Nombre d'tération pour NLGC: k={NLGC[2]} \")\n",
    "print(f\"Nombre d'tération pour BB2: k={JHb2[2]} \")\n",
    "plt.figure\n",
    "plt.plot(np.arange(NLGC[2]),NLGC[1], label = f'NLGC:JH ')\n",
    "plt.plot(np.arange(JRb2[2]),JRb2[1], label = f'BB2:JH')\n",
    "plt.xlabel(\"iteration\")\n",
    "plt.ylabel(\"J(u)\")\n",
    "plt.legend()"
   ]
  },
  {
   "cell_type": "markdown",
   "metadata": {},
   "source": [
    "# Commentaire sur les performances de BB2 et NLGC sur $J_H$.\n",
    "\n",
    "> Après analyse des différentes courbes, on conlut que sur la fonction de Rosenbrock  $J_R$  la méthode BB2 est moins performante   que la méthode NLGC    car l'argmin est atteint en 36 itérations par BB2 contrairement à NLGC qui l'atteint en moins de 24 itérations."
   ]
  },
  {
   "cell_type": "code",
   "execution_count": null,
   "metadata": {},
   "outputs": [],
   "source": []
  },
  {
   "cell_type": "code",
   "execution_count": null,
   "metadata": {},
   "outputs": [],
   "source": []
  }
 ],
 "metadata": {
  "colab": {
   "provenance": []
  },
  "kernelspec": {
   "display_name": "Python 3 (ipykernel)",
   "language": "python",
   "name": "python3"
  },
  "language_info": {
   "codemirror_mode": {
    "name": "ipython",
    "version": 3
   },
   "file_extension": ".py",
   "mimetype": "text/x-python",
   "name": "python",
   "nbconvert_exporter": "python",
   "pygments_lexer": "ipython3",
   "version": "3.11.5"
  },
  "toc": {
   "base_numbering": 1,
   "nav_menu": {},
   "number_sections": true,
   "sideBar": true,
   "skip_h1_title": false,
   "title_cell": "Table of Contents",
   "title_sidebar": "Contents",
   "toc_cell": false,
   "toc_position": {},
   "toc_section_display": true,
   "toc_window_display": false
  },
  "varInspector": {
   "cols": {
    "lenName": 16,
    "lenType": 16,
    "lenVar": 40
   },
   "kernels_config": {
    "python": {
     "delete_cmd_postfix": "",
     "delete_cmd_prefix": "del ",
     "library": "var_list.py",
     "varRefreshCmd": "print(var_dic_list())"
    },
    "r": {
     "delete_cmd_postfix": ") ",
     "delete_cmd_prefix": "rm(",
     "library": "var_list.r",
     "varRefreshCmd": "cat(var_dic_list()) "
    }
   },
   "types_to_exclude": [
    "module",
    "function",
    "builtin_function_or_method",
    "instance",
    "_Feature"
   ],
   "window_display": false
  }
 },
 "nbformat": 4,
 "nbformat_minor": 1
}
