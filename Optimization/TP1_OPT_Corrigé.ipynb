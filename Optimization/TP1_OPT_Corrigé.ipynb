{
 "cells": [
  {
   "cell_type": "markdown",
   "metadata": {
    "id": "-6yK1sJUkeSK"
   },
   "source": [
    "# Partie 1 : méthodes de gradient\n",
    "\n",
    "Le but de cette première partie du TP est de programmer, valider et expérimenter l’algorithme du **gradient à pas fixe (GF)** et à **gradient à pas optimal (GO)**. Pour faciliter les comparaisons, les 2 variantes seront implémentées dans le même programme. Pour les expérimentations et validations, on considèrera les fonctions suivantes:\n",
    "\n",
    "$$\n",
    "J_{1}(v)=\\sum_{i=1}^{i=N}\\left(v_{i}-1\\right)^{2}, \\quad J_{2}(v)=\\sum_{i=1}^{i=N}\\left(v_{i}-i\\right)^{2}, \\quad J_{R}(v)=\\sum_{i=1}^{i=N-1}\\left\\{\\left(v_{i+1}-v_{i}^{2}\\right)^{2}+\\left(v_{i}-1\\right)^{2}\\right\\}\n",
    "$$\n",
    "\n",
    "> Préciser les gradients, et les solutions optimales exactes pour ces 3 fonctions coût."
   ]
  },
  {
   "cell_type": "markdown",
   "metadata": {
    "id": "8K_C87xbjBjA"
   },
   "source": [
    "# Les gradients\n",
    "$\\bullet J_1$ \n",
    "$$ \\nabla J_1 = \n",
    "2\\begin{pmatrix}\n",
    "v_1 -1 \\\\\n",
    "v_2 -1 \\\\\n",
    ". \\\\\n",
    ". \\\\\n",
    ". \\\\\n",
    "v-N -1\n",
    "\\end{pmatrix}\n",
    "$$\n",
    "\n",
    "\n",
    "$\\bullet J_2$ \n",
    "$$ \\nabla J_2 = \n",
    "2\\begin{pmatrix}\n",
    "v_1 -1 \\\\\n",
    "v_2 -2 \\\\\n",
    ". \\\\\n",
    ". \\\\\n",
    ". \\\\\n",
    "v_N -N\n",
    "\\end{pmatrix}\n",
    "$$\n",
    "\n",
    "\n",
    "$\\bullet J_3$ \n",
    "$$ \\nabla J_3 = \n",
    "\\begin{pmatrix}\n",
    "-4v_1(v_2-v_1^2) + 2(v_1 -1) \\\\\n",
    "-4v_2(v_3-v_2^2) + 2(2v_2-v_1-1) \\\\\n",
    ". \\\\\n",
    ". \\\\\n",
    ". \\\\\n",
    "-4v_i(v_{i+1}-v_i^2) + 2(2v_i-v_{i-1}-1) \\\\\n",
    ". \\\\\n",
    ". \\\\\n",
    "-4v_{N-1}(v_{N}-v_{N-1}^2) + 2(2v_{N-1}-v_{N-2}-1) \\\\\n",
    "2(v_N - v_{N-1}\n",
    "\\end{pmatrix}\n",
    "$$\n",
    "\n",
    "\n",
    "# Les solutions optimales exactes\n",
    "\n",
    "$\\bullet J_1$ \n",
    "$$ V = \n",
    "\\begin{pmatrix}\n",
    "1 \\\\\n",
    "1 \\\\\n",
    ". \\\\\n",
    ". \\\\\n",
    ". \\\\\n",
    "1\n",
    "\\end{pmatrix}\n",
    "$$\n",
    "\n",
    "$\\bullet J_2$ \n",
    "$$ V = \n",
    "\\begin{pmatrix}\n",
    "1 \\\\\n",
    "2 \\\\\n",
    ". \\\\\n",
    ". \\\\\n",
    ". \\\\\n",
    "N\n",
    "\\end{pmatrix}\n",
    "$$\n",
    "\n",
    "$\\bullet J_3$ \n",
    "$$ V = \n",
    "\\begin{pmatrix}\n",
    "1 \\\\\n",
    "1 \\\\\n",
    ". \\\\\n",
    ". \\\\\n",
    ". \\\\\n",
    "1\n",
    "\\end{pmatrix}\n",
    "$$\n"
   ]
  },
  {
   "cell_type": "markdown",
   "metadata": {
    "id": "rq9c3ybJyJuM"
   },
   "source": [
    "$$\n",
    "\\nabla J_1 (v),\\quad\\quad \\nabla J_2 (v),\\quad\\quad \\nabla J_R (v) ~~ ?\n",
    "$$"
   ]
  },
  {
   "cell_type": "code",
   "execution_count": 99,
   "metadata": {
    "id": "wshXCzApnEy4"
   },
   "outputs": [],
   "source": [
    "import numpy as np"
   ]
  },
  {
   "cell_type": "code",
   "execution_count": 108,
   "metadata": {
    "id": "5lJOng8MkeSQ"
   },
   "outputs": [],
   "source": [
    "def J1 (v): # retourne la valeur de la fonction et de sont gradient\n",
    "    N = len(v)\n",
    "    ones = np.ones (N)\n",
    "    return [np.dot(v-ones,v-ones), 2*(v-ones)]\n",
    "\n",
    "def J2 (v):\n",
    "    N = len(v)\n",
    "    I = np.arange(1,N+1,1)\n",
    "    return [np.dot(v-I, v-I),2*(v-I)]\n",
    "\n",
    "\n",
    "## JR Rosenbrock\n",
    "def JR (v):\n",
    "    N = len (v)\n",
    "    J_r = 0\n",
    "    for i in range(N-1):\n",
    "        J_r += (v[i+1]-v[i]**2)**2 + (v[i]-1)**2\n",
    "\n",
    "    Grad_J = [-4*v[0]*(v[1]-v[0]**2) + 2*(v[0]-1)]\n",
    "    for j in range(1,N-1):\n",
    "        Grad_J.append(-4*v[j]*(v[j+1]-v[j]**2) + 2*(2*v[j]-v[j-1]-1))\n",
    "   \n",
    "    Grad_J.append(2*(v[N-1]-v[N-2]**2))\n",
    "  \n",
    "    return [J_r, Grad_J]"
   ]
  },
  {
   "cell_type": "markdown",
   "metadata": {
    "id": "xR8TilSFmsnW"
   },
   "source": [
    "Evaluations des fonctions et de leurs gradients :"
   ]
  },
  {
   "cell_type": "code",
   "execution_count": 101,
   "metadata": {
    "colab": {
     "base_uri": "https://localhost:8080/"
    },
    "id": "Gd56U-LLkeSW",
    "outputId": "3504482c-ea03-46ba-ea36-bcfb709a7258"
   },
   "outputs": [
    {
     "name": "stdout",
     "output_type": "stream",
     "text": [
      "La valeur de J_1 en v=[1 2 1] est égale à 1.0\n",
      "Le gradient de J_1 en v=[1 2 1] est égale à [0. 2. 0.]\n"
     ]
    }
   ],
   "source": [
    "v = np.array([1,2,1]) ## prendre des exemples test\n",
    "J1(v)\n",
    "\n",
    "[J0,G0] = J1(v)\n",
    "\n",
    "print ('La valeur de J_1 en v={} est égale à {}'.format(v,J0))\n",
    "print ('Le gradient de J_1 en v={} est égale à {}'.format(v,G0))"
   ]
  },
  {
   "cell_type": "code",
   "execution_count": 102,
   "metadata": {},
   "outputs": [
    {
     "name": "stdout",
     "output_type": "stream",
     "text": [
      "La valeur de J_1 en v=[0. 0. 0.] est égale à 14.0\n",
      "Le gradient de J_1 en v=[0. 0. 0.] est égale à [-2. -4. -6.]\n"
     ]
    }
   ],
   "source": [
    "v = np.zeros(3)\n",
    "[J1,G1] = J2(v)\n",
    "\n",
    "print ('La valeur de J_1 en v={} est égale à {}'.format(v,J1))\n",
    "print (r'Le gradient de J_1 en v={} est égale à {}'.format(v,G1))"
   ]
  },
  {
   "cell_type": "code",
   "execution_count": 103,
   "metadata": {},
   "outputs": [
    {
     "name": "stdout",
     "output_type": "stream",
     "text": [
      "La valeur de J_1 en v=[0. 0. 0.] est égale à 2.0\n",
      "Le gradient de J_1 en v=[0. 0. 0.] est égale à [-2.0, -2.0, 0.0]\n"
     ]
    }
   ],
   "source": [
    "v = np.zeros(3)\n",
    "[J2,G2] = JR(v)\n",
    "\n",
    "print ('La valeur de J_1 en v={} est égale à {}'.format(v,J2))\n",
    "print (r'Le gradient de J_1 en v={} est égale à {}'.format(v,G2))"
   ]
  },
  {
   "cell_type": "markdown",
   "metadata": {
    "id": "noLyNxDlroL8"
   },
   "source": [
    "Traçage des fonctions par rapport à la dernière variable :"
   ]
  },
  {
   "cell_type": "code",
   "execution_count": 104,
   "metadata": {
    "id": "tXk1NkG0nzx7"
   },
   "outputs": [],
   "source": [
    "%matplotlib inline\n",
    "import matplotlib.pyplot as plt"
   ]
  },
  {
   "cell_type": "code",
   "execution_count": 109,
   "metadata": {
    "colab": {
     "base_uri": "https://localhost:8080/",
     "height": 364
    },
    "id": "GKZRPDwn1YzM",
    "outputId": "5175a2f1-0a38-4850-b67e-2a9f4c9a74c5"
   },
   "outputs": [
    {
     "name": "stderr",
     "output_type": "stream",
     "text": [
      "C:\\Users\\HP\\AppData\\Local\\Temp\\ipykernel_14308\\2439198977.py:2: MatplotlibDeprecationWarning: The seaborn styles shipped by Matplotlib are deprecated since 3.6, as they no longer correspond to the styles shipped by seaborn. However, they will remain available as 'seaborn-v0_8-<style>'. Alternatively, directly use the seaborn API instead.\n",
      "  plt.style.use('seaborn')\n"
     ]
    },
    {
     "data": {
      "text/plain": [
       "[<matplotlib.lines.Line2D at 0x222bc832650>]"
      ]
     },
     "execution_count": 109,
     "metadata": {},
     "output_type": "execute_result"
    },
    {
     "data": {
      "image/png": "[encoded data removed]",
      "text/plain": [
       "<Figure size 800x550 with 1 Axes>"
      ]
     },
     "metadata": {},
     "output_type": "display_data"
    }
   ],
   "source": [
    "## Ici on trace J(1,2,1,x) avec x entre -5 et 15 juste pour voir ces variations par rapport à une variable (la dernière)\n",
    "plt.style.use('seaborn')\n",
    "\n",
    "x = np.linspace(-5,15,100)\n",
    "v =np.array([1,2,1])\n",
    "\n",
    "y1 = [J1(np.append (v,xi))[0] for xi in x]\n",
    "y2 = [J2(np.append (v,xi))[0] for xi in x]\n",
    "yR = [JR(np.append (v,xi))[0] for xi in x]\n",
    "\n",
    "plt.plot(x,y1,color=\"red\")\n",
    "plt.plot(x,y2,color=\"blue\")\n",
    "plt.plot(x,yR,color=\"green\")"
   ]
  },
  {
   "cell_type": "markdown",
   "metadata": {
    "id": "xN_4Y1gekeSb"
   },
   "source": [
    "## Etape 1.\n",
    "> Rappeler les trois versions GF, GV et GO, et identifier l’ensemble des données utilisateur, numériques, et de contrôle."
   ]
  },
  {
   "cell_type": "markdown",
   "metadata": {
    "id": "4ZfcPOt1keSc"
   },
   "source": [
    "$\\bullet Méthode de gradient dans le cas générale$\n",
    ">  \n",
    "- Initiaisation: $u_0 \\in {\\mathbb R}^n$ arbitraire et pas $t>0$\n",
    "- Itérations: répéter pour $k=0,1,\\dots$   \n",
    "  - calculer le gradient $\\nabla f (u_{k})$;\n",
    "  - calculer $u_{k+1} = u_{k} - t_k\\nabla f (u_{k})$;\n",
    "- Critère d'arrêt:  $\\|\\nabla f (u_{k}) \\|_2 \\leq \\epsilon$ \n",
    "\n",
    "- Le cas $GF$ est celui pour lequel le pas $t_k$ est fixe.\n",
    "- Le cas $GO$ est celui pour lequel le pas $t_k$ vérifie $t_{k}:=\\mathop{\\mathrm{argmin}}\\limits_{t>0}\\tilde{f}(t)$ avec "
   ]
  },
  {
   "cell_type": "markdown",
   "metadata": {
    "id": "7JJwEzxvkeSc"
   },
   "source": [
    "## Etape 2.\n",
    "- Ecrire le programme GF (utiliser les modules déjà définis de calcul de la fonction coût et de son gradient pour les fonctions $J_1$, $J_2$, $J_R$).\n",
    "- Effectuer les tests de validation de GF pour les fonctions $J_1$ et $J_2$ ($N = 10,20,40$) : On prendra un pas fixe $t = 1$, qu’observe t-on et pourquoi ? puis prendre $t=0.1$ et ensuite $t = 0.5$."
   ]
  },
  {
   "cell_type": "markdown",
   "metadata": {
    "id": "92H9y5xZpjm9"
   },
   "source": [
    "**Pseudocode**\n",
    "\n",
    ">  \n",
    "- Initiaisation: $u_0 \\in {\\mathbb R}^n$ arbitraire et pas $t>0$\n",
    "- Itérations: répéter pour $k=0,1,\\dots$   \n",
    "  - calculer le gradient $\\nabla f (u_{k})$;\n",
    "  - calculer $u_{k+1} = u_{k} - t \\nabla f (u_{k})$;\n",
    "- Critère d'arrêt:  $\\|\\nabla f (u_{k}) \\|_2 \\leq \\epsilon$ $\\big($on utilise ici la norme euclidienne $\\|\\cdot \\|_2$ $\\big)$\n"
   ]
  },
  {
   "cell_type": "code",
   "execution_count": 110,
   "metadata": {
    "id": "VaOAPHTlkeSd"
   },
   "outputs": [],
   "source": [
    "# Modifier ici le choix de fonction, J1, J2, JR\n",
    "def cost(v):\n",
    "    return J1(v)"
   ]
  },
  {
   "cell_type": "code",
   "execution_count": 143,
   "metadata": {
    "id": "ckiVILlFpeFN"
   },
   "outputs": [
    {
     "name": "stdout",
     "output_type": "stream",
     "text": [
      "Le nomdre d'itération est 84 et la valeur trouvé est [0.99999999 0.99999999 0.99999999 0.99999999 0.99999999 0.99999999\n",
      " 0.99999999 0.99999999 0.99999999 0.99999999 0.99999999 0.99999999\n",
      " 0.99999999 0.99999999 0.99999999 0.99999999 0.99999999 0.99999999\n",
      " 0.99999999 0.99999999 0.99999999 0.99999999 0.99999999 0.99999999\n",
      " 0.99999999 0.99999999 0.99999999 0.99999999 0.99999999 0.99999999\n",
      " 0.99999999 0.99999999 0.99999999 0.99999999 0.99999999 0.99999999\n",
      " 0.99999999 0.99999999 0.99999999 0.99999999]\n"
     ]
    }
   ],
   "source": [
    "N=40 ; #nombre de variables d'optimisation (ou dimension du probleme)\n",
    "eps = 1.e-7; # tolerance sur la norme du gradient\n",
    "Kmax = 1500 ; # nombre max d'iterations\n",
    "# Pour le gradient à pas fixe : le pas est\n",
    "\n",
    "t = 0.1;\n",
    "#t = 0.5;\n",
    "\n",
    "\n",
    "# First guess : u0\n",
    "u0 = np.zeros(N)\n",
    "# Itérations de l'agorithme GF à completer...\n",
    "# vous pouvez utiliser la fonction np.linalg.norm pour évaluer la norme 2 d'un vecteur\n",
    "\n",
    "X_1 = []\n",
    "Y_1 = []\n",
    "U_k = u0\n",
    "val = 1\n",
    "l = 0\n",
    "\n",
    "while np.linalg.norm(val) > eps and l < Kmax:\n",
    "    X_1.append(l)\n",
    "    Y_1.append(cost(U_k)[0])\n",
    "    U_k1 = U_k - t*cost(U_k)[1]\n",
    "    val = cost(U_k1)[1]\n",
    "    U_k = U_k1\n",
    "    l+=1\n",
    "\n",
    "## Afficher le nombre d'itération et le vecteur trouvé...\n",
    "print(f\"Le nomdre d'itération est {l} et la valeur trouvé est {U_k}\")"
   ]
  },
  {
   "cell_type": "markdown",
   "metadata": {
    "id": "xz3kVbRJkeSj"
   },
   "source": [
    "## Etape 3.\n",
    "> Dans cette étape on va construire l’approximation parabolique de la fonction $f(t) = J(u_k − t\\nabla J(u_k))$, qui utilise $f(0)$, $f′(0)$ et $f(t_{k−1})$. S’en servir pour implémenter une approximation du calcul du pas optimal $t_k$. Valider GO sur les cas $J_1$ et $J_2$. Comparer ensuite GF et GO sur $J_R$ (tracer, sur le même graphique, les 2 courbes de convergence des coûts en fonction des itérations)."
   ]
  },
  {
   "cell_type": "markdown",
   "metadata": {
    "id": "Mmci-kkhrdAb"
   },
   "source": [
    "Etant donné $u_k$, la valeur $J(u_k)$ et le gradient $\\nabla J(u_k)$, on propose d'approcher $J$ par un modèle quadratique au voisinage de $u_k$ le long du gradient $G_k:= \\nabla J (u_k)$, soit\n",
    "\n",
    "$$\n",
    "f(t):= J(u_k- t G_k ) \\simeq J(u_k) - t G_k^\\top G_k + \\gamma_k t^2 =: \\tilde{f}(t),\n",
    "$$\n",
    "avec $\\gamma_k$  un scalaire qu'il faut identifier . On a en particulier,\n",
    "\n",
    "$$\n",
    "f(0)=J(u_k),\n",
    "\\quad\\quad f'(0)= - G_k^\\top G_k.\n",
    "$$\n",
    "\n",
    "- En prenant $\\tilde{f}(t_{k-1}) = f(t_{k-1})$, **identifier** l'expression de $\\gamma_k$ en fonction de $t_{k-1}, f(t_{k-1}), J(u_k)$ et $\\nabla J (u_k)$. \n",
    "-\n",
    "$\\begin{align*}\n",
    "    \\tilde{f}(t_{k-1}) = f(t_{k-1}) &\\iff J(u_k- t_{k-1} G_k ) = J(u_k) - t_{k-1} G_k^\\top G_k + \\gamma_k t_{k-1}^2 \\\\\n",
    "    & \\iff \\gamma_k = \\dfrac{J(u_k- t_{k-1} G_k )-J(u_k)- t_{k-1} G_k^\\top G_k}{t_{k-1}^2} \\\\\n",
    "    & \\iff \\boxed{\\gamma_k = \\dfrac{J(u_k- t_{k-1} G_k )-J(u_k)- t_{k-1} \\|\\nabla J (u_{k}) \\|^{2}_2}{t_{k-1}^2}}\n",
    "\\end{align*}$\n",
    "  \n",
    "\n",
    "\n",
    "- **En déduire** l'approximation $t_{k}:=\\mathop{\\mathrm{argmin}}\\limits_{t>0}\\tilde{f}(t)$ du pas optimal en fonction de $\\gamma_k$ et $\\nabla J(u_k)$.\n",
    "- En dérivant $\\tilde{f}(t)$ on obtient:  $\\tilde{f}(t)^{'} = -G_k^\\top G_k + 2\\gamma_k t$. Ainsi $ \\tilde{f}(t_k)^{'} = 0\\iff \\boxed{t_k = \\dfrac{G_k^\\top G_k}{2\\gamma_k} = \\dfrac{\\|\\nabla J (u_{k}) \\|^{2}_2}{2\\gamma_k}}$\n",
    "- **Implémenter** l'expression du pas optimal approché pour $J_1$, $J_2$ et $J_R$ dans la fonction suivante (où $u$ joue le rôle de $u_{k}$ et $t$ joue le rôle de $t_{k-1}$):\n"
   ]
  },
  {
   "cell_type": "code",
   "execution_count": 112,
   "metadata": {
    "id": "azSkdZAGqB0r"
   },
   "outputs": [],
   "source": [
    "def PasOptJ1(u,t):\n",
    "    gam_k = (J1(u-t*J1(u)[1])[0]-J1(u)[0]+t*np.dot(J1(u)[1],J1(u)[1]))/(t**2)\n",
    "    Nab_u = np.dot(J1(u)[1],J1(u)[1])\n",
    "    tk = Nab_u/(2*gam_k)\n",
    "    return tk\n",
    "\n",
    "def PasOptJ2(u,t):\n",
    "    gam_k = (J2(u-t*J2(u)[1])[0]-J2(u)[0]+t*np.dot(J2(u)[1],J2(u)[1]))/(t**2)\n",
    "    Nab_u = np.dot(J2(u)[1],J2(u)[1])\n",
    "    tk = Nab_u/(2*gam_k)\n",
    "    return tk\n",
    "\n",
    "def PasOptJR(u,t):\n",
    "    gam_k = (JR(u-t*JR(u)[1])[0]-JR(u)[0]+t*np.dot(JR(u)[1],JR(u)[1]))/(t**2)\n",
    "    Nab_u = np.dot(JR(u)[1],JR(u)[1])\n",
    "    tk = Nab_u/(2*gam_k)\n",
    "    return tk\n"
   ]
  },
  {
   "cell_type": "code",
   "execution_count": 113,
   "metadata": {},
   "outputs": [
    {
     "data": {
      "text/plain": [
       "0.1"
      ]
     },
     "execution_count": 113,
     "metadata": {},
     "output_type": "execute_result"
    }
   ],
   "source": [
    "PasOptJR(np.zeros(2),1)"
   ]
  },
  {
   "cell_type": "markdown",
   "metadata": {
    "id": "fuQ7RROFrhju"
   },
   "source": [
    "**Pseudocode du GO (approché)**\n",
    "\n",
    ">  \n",
    "- Initialisation: prende un vecteur $u_0 \\in {\\mathbb R}^n$ arbitraire et un scalaire arbitraire $t_{-1}>0$\n",
    "- Itérations: Répéter pour $k=0, 1,\\dots$\n",
    "  - Calculer le pas optimal approché $t_k$;\n",
    "  - Calculer $u_{k+1} = u_{k} - t_{k} \\nabla J (u_{k})$;\n",
    "- Critère d'arrêt:  $\\|\\nabla J (u_{k}) \\|_2 \\leq \\epsilon$\n"
   ]
  },
  {
   "cell_type": "markdown",
   "metadata": {
    "id": "1INY56HgNkT3"
   },
   "source": [
    "Valider cet algorithme GO sur les cas $J_1$ et $J_2$."
   ]
  },
  {
   "cell_type": "code",
   "execution_count": 142,
   "metadata": {
    "id": "4URIxmflqBjO"
   },
   "outputs": [
    {
     "name": "stdout",
     "output_type": "stream",
     "text": [
      "Le nomdre d'itération est 1 et la valeur trouvé est [1. 1. 1. 1. 1. 1. 1. 1. 1. 1.]\n"
     ]
    }
   ],
   "source": [
    "N=10 ; #nombre de variables d'optimisation (ou dimension du probleme)\n",
    "eps = 1.e-7; # tolerance sur la norme du gradient\n",
    "Kmax = 1500 ; # nombre max d'iterations\n",
    "# Pour le gradient à pas fixe : le pas est\n",
    "\n",
    "#t = 0.1;\n",
    "t = 0.5;\n",
    "\n",
    "\n",
    "# First guess : u0\n",
    "u0 = np.zeros(N)\n",
    "# Itérations de l'agorithme GF à completer...\n",
    "# vous pouvez utiliser la fonction np.linalg.norm pour évaluer la norme 2 d'un vecteur\n",
    "\n",
    "X_1 = []\n",
    "Y_1 = []\n",
    "U_k = u0\n",
    "val1 = 1\n",
    "l = 0\n",
    "\n",
    "def costJ1(v):\n",
    "    return J1(v)\n",
    "\n",
    "while np.linalg.norm(val1) > eps and l < Kmax:\n",
    "    X_2.append(l)\n",
    "    Y_2.append(costJ1(U_k)[0])\n",
    "    t = PasOptJ1(U_k,t)\n",
    "    U_k1 = U_k - t*costJ1(U_k)[1]\n",
    "    val1 = costJ1(U_k1)[1]\n",
    "    U_k = U_k1\n",
    "    l+=1\n",
    "\n",
    "## Afficher le nombre d'itération et le vecteur trouvé...\n",
    "print(f\"Le nomdre d'itération est {l} et la valeur trouvé est {U_k}\")"
   ]
  },
  {
   "cell_type": "code",
   "execution_count": 140,
   "metadata": {},
   "outputs": [
    {
     "name": "stdout",
     "output_type": "stream",
     "text": [
      "Le nomdre d'itération est 1 et la valeur trouvé est [ 1.  2.  3.  4.  5.  6.  7.  8.  9. 10.]\n"
     ]
    }
   ],
   "source": [
    "# First guess : u0\n",
    "u0 = np.zeros(N)\n",
    "# Itérations de l'agorithme GF à completer...\n",
    "# vous pouvez utiliser la fonction np.linalg.norm pour évaluer la norme 2 d'un vecteur\n",
    "X_2 = []\n",
    "Y_2 = []\n",
    "U_k = u0\n",
    "val2 = 1\n",
    "l = 0\n",
    "\n",
    "def costJ2(v):\n",
    "    return J2(v)\n",
    "\n",
    "while np.linalg.norm(val2) > eps and l < Kmax:\n",
    "    X_2.append(l)\n",
    "    Y_2.append(costJ2(U_k)[0])\n",
    "    t = PasOptJ2(U_k,t)\n",
    "    U_k1 = U_k - t*costJ2(U_k)[1]\n",
    "    val2 = costJ2(U_k1)[1]\n",
    "    U_k = U_k1\n",
    "    l+=1\n",
    "\n",
    "## Afficher le nombre d'itération et le vecteur trouvé...\n",
    "print(f\"Le nomdre d'itération est {l} et la valeur trouvé est {U_k}\")"
   ]
  },
  {
   "cell_type": "markdown",
   "metadata": {
    "id": "bNMdWt2IaPpW"
   },
   "source": [
    "Comparer ensuite GF et GO sur  $J_R$  (tracer, sur le même graphique, les 2 courbes de convergence des coûts en fonction des itérations)"
   ]
  },
  {
   "cell_type": "code",
   "execution_count": 144,
   "metadata": {
    "id": "JLjLKor2aQG0"
   },
   "outputs": [
    {
     "data": {
      "image/png": "[encoded data removed]",
      "text/plain": [
       "<Figure size 800x550 with 1 Axes>"
      ]
     },
     "metadata": {},
     "output_type": "display_data"
    }
   ],
   "source": [
    "import matplotlib.pyplot as plt\n",
    "plt.plot(X_1,Y_1,'r')\n",
    "plt.plot(X_2,Y_2,'g')\n",
    "plt.show()"
   ]
  },
  {
   "cell_type": "markdown",
   "metadata": {
    "id": "fav1ULpPkeSk"
   },
   "source": [
    "## Etape 5.\n",
    "> Etudier les méthodes GF et GO sur le cas de la fonction $J_H (x, y) = (x^2 +y−2)^2 +(y^2 −2x+1)^2$ . On prendra comme guess initial $u_0 = (0, 0)$ puis $u_0 = (1.5, −1.5)$. Que constatez-vous ? Comment valider ce constat ?"
   ]
  },
  {
   "cell_type": "code",
   "execution_count": 116,
   "metadata": {
    "id": "SLSNmsf6Rc66"
   },
   "outputs": [],
   "source": [
    "def J_H(X):\n",
    "    J = (X[0]**2+X[1]-2)**2 + (X[1]**2 -2*X[0]+1)**2\n",
    "    J_x = 4*X[0]*(X[0]**2+X[1]-2) - 4*(X[1]**2 -2*X[0]+1)\n",
    "    J_y = 2*(X[0]**2+X[1]-2) + 2*X[1]*(X[1]**2 -2*X[0]+1)\n",
    "    return (J, np.array([J_x,J_y]))\n",
    "\n",
    "def costJ(v):\n",
    "    return J_H(v)\n"
   ]
  },
  {
   "cell_type": "code",
   "execution_count": 145,
   "metadata": {},
   "outputs": [
    {
     "name": "stdout",
     "output_type": "stream",
     "text": [
      "Le nomdre d'itération est 31 et la valeur trouvé est [1. 1.]\n"
     ]
    }
   ],
   "source": [
    "N=40 ; #nombre de variables d'optimisation (ou dimension du probleme)\n",
    "eps = 1.e-7; # tolerance sur la norme du gradient\n",
    "Kmax = 1500 ; # nombre max d'iterations\n",
    "# Pour le gradient à pas fixe : le pas est\n",
    "\n",
    "t = 0.1;\n",
    "#t = 0.5;\n",
    "\n",
    "# Pas fixe\n",
    "\n",
    "# First guess : u0 = [0,0]\n",
    "u0 = np.zeros(2)\n",
    "\n",
    "X = []\n",
    "Y = []\n",
    "U_k = u0\n",
    "val = 1\n",
    "l = 0\n",
    "\n",
    "while np.linalg.norm(val) > eps and l < Kmax:\n",
    "    X.append(l)\n",
    "    Y.append(costJ(U_k)[0])\n",
    "    U_k1 = U_k - t*costJ(U_k)[1]\n",
    "    val = costJ(U_k1)[1]\n",
    "    U_k = U_k1\n",
    "    l+=1\n",
    "\n",
    "## Afficher le nombre d'itération et le vecteur trouvé...\n",
    "print(f\"Le nomdre d'itération est {l} et la valeur trouvé est {U_k}\")"
   ]
  },
  {
   "cell_type": "code",
   "execution_count": 146,
   "metadata": {},
   "outputs": [
    {
     "name": "stdout",
     "output_type": "stream",
     "text": [
      "Le nomdre d'itération est 7 et la valeur trouvé est [ 8.02201713e+297 -2.07829067e+198]\n"
     ]
    },
    {
     "name": "stderr",
     "output_type": "stream",
     "text": [
      "C:\\Users\\HP\\AppData\\Local\\Temp\\ipykernel_14308\\1260202448.py:2: RuntimeWarning: overflow encountered in scalar power\n",
      "  J = (X[0]**2+X[1]-2)**2 + (X[1]**2 -2*X[0]+1)**2\n",
      "C:\\Users\\HP\\AppData\\Local\\Temp\\ipykernel_14308\\1260202448.py:3: RuntimeWarning: overflow encountered in scalar power\n",
      "  J_x = 4*X[0]*(X[0]**2+X[1]-2) - 4*(X[1]**2 -2*X[0]+1)\n",
      "C:\\Users\\HP\\AppData\\Local\\Temp\\ipykernel_14308\\1260202448.py:3: RuntimeWarning: invalid value encountered in scalar subtract\n",
      "  J_x = 4*X[0]*(X[0]**2+X[1]-2) - 4*(X[1]**2 -2*X[0]+1)\n",
      "C:\\Users\\HP\\AppData\\Local\\Temp\\ipykernel_14308\\1260202448.py:4: RuntimeWarning: overflow encountered in scalar power\n",
      "  J_y = 2*(X[0]**2+X[1]-2) + 2*X[1]*(X[1]**2 -2*X[0]+1)\n",
      "C:\\Users\\HP\\AppData\\Local\\Temp\\ipykernel_14308\\1260202448.py:4: RuntimeWarning: invalid value encountered in scalar add\n",
      "  J_y = 2*(X[0]**2+X[1]-2) + 2*X[1]*(X[1]**2 -2*X[0]+1)\n"
     ]
    }
   ],
   "source": [
    "# Pas optimal\n",
    "# First guess : u0 = [0,0]\n",
    "u0 = np.zeros(2)\n",
    "\n",
    "U = []\n",
    "V = []\n",
    "U_k = u0\n",
    "val = 1\n",
    "l = 0\n",
    "\n",
    "while np.linalg.norm(val) > eps and l < Kmax:\n",
    "    X.append(l)\n",
    "    Y.append(costJ(U_k)[0])\n",
    "    t = PasOptJ2(U_k,t)\n",
    "    U_k1 = U_k - t*costJ(U_k)[1]\n",
    "    val = costJ(U_k1)[1]\n",
    "    U_k = U_k1\n",
    "    l+=1\n",
    "\n",
    "## Afficher le nombre d'itération et le vecteur trouvé...\n",
    "print(f\"Le nomdre d'itération est {l} et la valeur trouvé est {U_k}\")"
   ]
  },
  {
   "cell_type": "code",
   "execution_count": 147,
   "metadata": {},
   "outputs": [
    {
     "data": {
      "image/png": "[encoded data removed]",
      "text/plain": [
       "<Figure size 800x550 with 1 Axes>"
      ]
     },
     "metadata": {},
     "output_type": "display_data"
    }
   ],
   "source": [
    "import matplotlib.pyplot as plt\n",
    "plt.plot(X,Y,'r')\n",
    "plt.plot(U,V,'b')\n",
    "plt.show()"
   ]
  },
  {
   "cell_type": "code",
   "execution_count": null,
   "metadata": {},
   "outputs": [],
   "source": []
  }
 ],
 "metadata": {
  "colab": {
   "provenance": []
  },
  "kernelspec": {
   "display_name": "Python 3 (ipykernel)",
   "language": "python",
   "name": "python3"
  },
  "language_info": {
   "codemirror_mode": {
    "name": "ipython",
    "version": 3
   },
   "file_extension": ".py",
   "mimetype": "text/x-python",
   "name": "python",
   "nbconvert_exporter": "python",
   "pygments_lexer": "ipython3",
   "version": "3.11.5"
  }
 },
 "nbformat": 4,
 "nbformat_minor": 1
}
