{
 "cells": [
  {
   "cell_type": "markdown",
   "metadata": {},
   "source": [
    "**Noms et Prénoms :**\n",
    "> - LONMADON Géofroid \n",
    "> - MITCHOZOUNOU Sagbo Jean-Claude."
   ]
  },
  {
   "cell_type": "markdown",
   "metadata": {
    "id": "19D0FpH4keSk"
   },
   "source": [
    "# TP 2 : Méthode de gradient conjugué\n",
    "Le but de cette deuxième partie du TP est de programmer, valider et expérimenter l’algorithme du gradient conjugué GC (et sa variante Fletcher-Reeves).\n"
   ]
  },
  {
   "cell_type": "markdown",
   "metadata": {
    "id": "5an1Z18okeSl"
   },
   "source": [
    "## Etape 1.\n",
    "> Rappeler l’algorithme GC et l’implémenter. On pourra utilement se servir comme point de départ des codes de gradient développés en Partie 1. Effectuer les tests de validation rapide pour les fonctions quadratiques suivantes ($N = 10, 20, 40$) :\n",
    "$$\n",
    "J_{1}(v)=\\sum_{i=1}^{i=N}\\left(v_{i}-1\\right)^{2}, \\quad J_{2}(v)=\\sum_{i=1}^{i=N}\\left(v_{i}-i\\right)^{2}\n",
    "$$"
   ]
  },
  {
   "cell_type": "markdown",
   "metadata": {
    "id": "etWC-oExqZ4R"
   },
   "source": [
    "\n",
    "On rappelle que pour une fonction $J$ quadratique :\n",
    "$$\n",
    "J(v)=\\frac{1}{2} \\langle A v, v \\rangle -\\langle b, v\\rangle; \\quad\\quad\\quad \\nabla J(v)=A v-b\n",
    "$$\n",
    "où $A$ est une matrice symétrique définie positive, l'algorithme GC s'écrit comme suit:\n",
    "\n",
    "**Pseudocode**\n",
    "\n",
    ">  \n",
    "- Initialisation: $u_0 \\in {\\mathbb R}^n$ arbitraire, $d_0 = \\nabla J(u_0) \\in {\\mathbb R}^n$\n",
    "- Itérations: répéter pour $k=0,1,\\dots$\n",
    "  - calculer le gradient $G_k = \\nabla J (u_{k})$;\n",
    "  - calculer $\\rho_k$\n",
    "  $$\n",
    "  \\rho_k = \\frac{ \\langle G_k, d_{k}\\rangle}{\\langle A d_{k}, d_{k}\\rangle};\n",
    "  $$\n",
    "  - poser $u_{k+1} = u_{k} - \\rho_k d_k$;\n",
    "  - calculer le gradient $G_{k+1}=\\nabla J (u_{k+1})$;\n",
    "  - calculer $\\beta_k$,\n",
    "  $$\n",
    "  \\beta_k = -\\frac{ \\langle G_{k+1}, Ad_{k}\\rangle}{\\langle A d_{k}, d_{k}\\rangle};\n",
    "  $$\n",
    "  - poser $d_{k+1} = \\nabla J(u_{k+1}) + \\beta_k d_k$;\n",
    "- Critère d'arrêt:  $\\| d_k \\|_2 \\leq \\epsilon$\n"
   ]
  },
  {
   "cell_type": "code",
   "execution_count": 37,
   "metadata": {
    "id": "qPZSyI3KQE4K"
   },
   "outputs": [],
   "source": [
    "import numpy as np"
   ]
  },
  {
   "cell_type": "code",
   "execution_count": 38,
   "metadata": {
    "id": "E8UuFvcAQE4K"
   },
   "outputs": [],
   "source": [
    "def J1 (v): # rappelle des fonctions du TP1. Cette fonction retourne la valeur de la fonction et de sont gradient\n",
    "    N = len(v)\n",
    "    ones = np.ones (N)\n",
    "    return [np.dot(v-ones,v-ones), 2*(v-ones)]\n",
    "\n",
    "def J2 (v):\n",
    "    N = len(v)\n",
    "    r = np.arange (1,N+1)\n",
    "    return [np.dot(v-r,v-r), 2*(v-r)]"
   ]
  },
  {
   "cell_type": "markdown",
   "metadata": {
    "id": "jC-5G0bLWOPG"
   },
   "source": [
    "On remarque que dans le cas des fonctions $J_1$ et $J_2$, on a $A = 2 I$ où $I$ est la matrice identité."
   ]
  },
  {
   "cell_type": "code",
   "execution_count": 74,
   "metadata": {
    "id": "_J3WXeu1qZIG"
   },
   "outputs": [],
   "source": [
    "## Implémenter ici l'algorithme du GC pour J1 et J2\n",
    "\n",
    "eps = eps = 1.e-7\n",
    "Kmax = 1500\n",
    "u0 = np.zeros(N)\n",
    "\n",
    "d = 0\n",
    "G = 0\n",
    "A = 2*np.eye(N)\n",
    "\n",
    "def GC_J(J, A, eps, Kmax):\n",
    "    u0 = np.zeros(N)\n",
    "    #N = len(u0)\n",
    "    u = u0\n",
    "    d = J(u)[1]\n",
    "    G = J(u)[1]\n",
    "    \n",
    "    for k in range(Kmax):\n",
    "        \n",
    "        rho = (np.dot(G, d))/np.dot(np.dot(A,d), d)\n",
    "        \n",
    "        u += -rho*d\n",
    "        G = J(u)[1]\n",
    "        \n",
    "        beta = -np.dot(G, np.dot(A,d))/np.dot(np.dot(A,d), d)\n",
    "        \n",
    "        d = beta*d + J(u)[1]\n",
    "        if(np.linalg.norm(d) <= eps):\n",
    "            #print('terminé')\n",
    "            break\n",
    "            \n",
    "    return u, k+1\n"
   ]
  },
  {
   "cell_type": "code",
   "execution_count": 77,
   "metadata": {},
   "outputs": [
    {
     "name": "stdout",
     "output_type": "stream",
     "text": [
      "\n",
      "Fonction J1: Pour N =  10\n",
      "\n",
      "Le nombre d'itérations est : 1\n",
      "Le vecteur optimal trouvé est :\n",
      " [1. 1. 1. 1. 1. 1. 1. 1. 1. 1.]\n",
      "\n",
      "Fonction J1: Pour N =  20\n",
      "\n",
      "Le nombre d'itérations est : 1\n",
      "Le vecteur optimal trouvé est :\n",
      " [1. 1. 1. 1. 1. 1. 1. 1. 1. 1. 1. 1. 1. 1. 1. 1. 1. 1. 1. 1.]\n",
      "Fonction J1: Pour N =  40\n",
      "\n",
      "Le nombre d'itérations est : 1\n",
      "Le vecteur optimal trouvé est :\n",
      " [1. 1. 1. 1. 1. 1. 1. 1. 1. 1. 1. 1. 1. 1. 1. 1. 1. 1. 1. 1. 1. 1. 1. 1.\n",
      " 1. 1. 1. 1. 1. 1. 1. 1. 1. 1. 1. 1. 1. 1. 1. 1.]\n"
     ]
    }
   ],
   "source": [
    "N = 10\n",
    "A = 2*np.eye(N)\n",
    "a=GC_J(J1, A, eps, Kmax)\n",
    "print(\"\\nFonction J1: Pour N = \", N)\n",
    "print(\"\\nLe nombre d'itérations est : \" +str(a[1])+ \"\\nLe vecteur optimal trouvé est :\\n\", a[0])\n",
    "\n",
    "N = 20\n",
    "A = 2*np.eye(N)\n",
    "a=GC_J(J1, A, eps, Kmax)\n",
    "\n",
    "print(\"\\nFonction J1: Pour N = \", N)\n",
    "print(\"\\nLe nombre d'itérations est : \" +str(a[1])+ \"\\nLe vecteur optimal trouvé est :\\n\", a[0])\n",
    "\n",
    "N = 40\n",
    "A = 2*np.eye(N)\n",
    "a=GC_J(J1, A, eps, Kmax)\n",
    "\n",
    "print(\"\\nFonction J1: Pour N = \", N)\n",
    "print(\"\\nLe nombre d'itérations est : \" +str(a[1])+ \"\\nLe vecteur optimal trouvé est :\\n\", a[0])\n"
   ]
  },
  {
   "cell_type": "code",
   "execution_count": 76,
   "metadata": {},
   "outputs": [
    {
     "name": "stdout",
     "output_type": "stream",
     "text": [
      "Fonction J2: N =  10\n",
      "\n",
      "Le nombre d'itérations est : 1\n",
      "Le vecteur optimal trouvé est :\n",
      " [ 1.  2.  3.  4.  5.  6.  7.  8.  9. 10.]\n",
      "\n",
      "Fonction J2: Pour N =  20\n",
      "\n",
      "Le nombre d'itérations est : 1\n",
      "Le vecteur optimal trouvé est :\n",
      " [ 1.  2.  3.  4.  5.  6.  7.  8.  9. 10. 11. 12. 13. 14. 15. 16. 17. 18.\n",
      " 19. 20.]\n",
      "\n",
      "Fonction J2: Pour N =  40\n",
      "\n",
      "Le nombre d'itérations est : 1\n",
      "Le vecteur optimal trouvé est :\n",
      " [ 1.  2.  3.  4.  5.  6.  7.  8.  9. 10. 11. 12. 13. 14. 15. 16. 17. 18.\n",
      " 19. 20. 21. 22. 23. 24. 25. 26. 27. 28. 29. 30. 31. 32. 33. 34. 35. 36.\n",
      " 37. 38. 39. 40.]\n"
     ]
    }
   ],
   "source": [
    "N = 10\n",
    "A = 2*np.eye(N)\n",
    "a=GC_J(J2, A, eps, Kmax)\n",
    "\n",
    "print(\"Fonction J2: N = \", N)\n",
    "print(\"\\nLe nombre d'itérations est : \" +str(a[1])+ \"\\nLe vecteur optimal trouvé est :\\n\", a[0])\n",
    "\n",
    "N = 20\n",
    "A = 2*np.eye(N)\n",
    "a=GC_J(J2, A, eps, Kmax)\n",
    "\n",
    "print(\"\\nFonction J2: Pour N = \", N)\n",
    "print(\"\\nLe nombre d'itérations est : \" +str(a[1])+ \"\\nLe vecteur optimal trouvé est :\\n\", a[0])\n",
    "\n",
    "N = 40\n",
    "A = 2*np.eye(N)\n",
    "a=GC_J(J2, A, eps, Kmax)\n",
    "\n",
    "print(\"\\nFonction J2: Pour N = \", N)\n",
    "print(\"\\nLe nombre d'itérations est : \" +str(a[1])+ \"\\nLe vecteur optimal trouvé est :\\n\", a[0])"
   ]
  },
  {
   "cell_type": "markdown",
   "metadata": {
    "id": "2bOSmidvkeSl"
   },
   "source": [
    "## Etape 2.\n",
    "On considère les fonctions quadratiques suivantes (en dimension $N$) :\n",
    "\n",
    "$$\n",
    "J_3(v)= \\frac 12\\langle Av,v \\rangle− \\langle f,v \\rangle , \\quad\\quad\\quad J_4(v)= \\frac 12 \\langle B v,v\\rangle − \\langle f,v\\rangle\n",
    "$$\n",
    "avec $f = (1,...,1)$ et les matrices $A$ et $B$ sont des matrices bande données par :\n",
    "\n",
    "$$\n",
    "A = {\\rm tridiag}[−1, 2, −1],\\quad\\quad\\quad B = {\\rm pentadiag}[−1, −1, 4, −1, −1]\n",
    "$$\n",
    "\n",
    "$$\n",
    "A=\\left(\\begin{array}{ccccc}\n",
    "2 & -1 & 0 & \\cdots & \\\\\n",
    "-1 & 2 & -1 & 0 & \\cdots \\\\\n",
    "0 & -1 & 2 & -1 & \\cdots \\\\\n",
    "\\cdots & \\cdots & \\cdots & \\cdots & \\cdots \\\\\n",
    "\\cdots & \\cdots & \\cdots & -1 & 2\n",
    "\\end{array}\\right)\n",
    "\\quad\\quad\\quad \\mbox{et même principe pour } B\n",
    "$$\n"
   ]
  },
  {
   "cell_type": "markdown",
   "metadata": {
    "id": "xl_adM0wtNmq"
   },
   "source": [
    "\n",
    "> - Minimiser les fonctions $J_3$ et $J_4$ par GC ($N = 20,40,80,100,200$), et\n",
    "- Comparer sur ces fonctions les performances de GC et de GF (avec un pas $t = 0.5$).\n",
    "- On tracera sur un même graphique les courbes GC et GF de convergence du coût en fonction des itérations."
   ]
  },
  {
   "cell_type": "code",
   "execution_count": 118,
   "metadata": {
    "id": "HIsiU2HtkeSm"
   },
   "outputs": [],
   "source": [
    "def J3 (v):\n",
    "    n = len (v)\n",
    "    A = 2*np.eye(n) - np.diag(np.ones(n-1),1) - np.diag(np.ones(n-1),-1)\n",
    "    f = np.ones(len(v))\n",
    "    return 0.5*np.dot(np.dot(A,v),v) - np.dot(f,v), np.dot(A,v) - f\n",
    "\n",
    "def J4 (v):\n",
    "    \n",
    "    #faire la même chose pour J4 (utiliser np.diag)\n",
    "    #.....\n",
    "    \n",
    "    n = len (v)\n",
    "    coefficients = [-1, -1, 4, -1, -1]\n",
    "    B = np.diag(coefficients[2] * np.ones(n)) + np.diag(coefficients[1] * np.ones(n-1), k=1) + np.diag(coefficients[0] * np.ones(n-2), k=2) + np.diag(coefficients[3] * np.ones(n-1), k=-1) + np.diag(coefficients[4] * np.ones(n-2), k=-2)\n",
    "\n",
    "    f = np.ones(len(v))\n",
    "\n",
    "    return 0.5*np.dot(np.dot(B,v),v) - np.dot(f,v), np.dot(B,v) - f"
   ]
  },
  {
   "cell_type": "code",
   "execution_count": 79,
   "metadata": {},
   "outputs": [
    {
     "data": {
      "text/plain": [
       "(0.0,\n",
       " array([-1., -1., -1., -1., -1., -1., -1., -1., -1., -1., -1., -1., -1.,\n",
       "        -1., -1., -1., -1., -1., -1., -1.]))"
      ]
     },
     "execution_count": 79,
     "metadata": {},
     "output_type": "execute_result"
    }
   ],
   "source": [
    "N = 20\n",
    "v = np.zeros(N)\n",
    "J3(v)"
   ]
  },
  {
   "cell_type": "code",
   "execution_count": 121,
   "metadata": {
    "id": "lj_dzVdDSsAT"
   },
   "outputs": [],
   "source": [
    "## Implémenter ici l'algorithme du GC pour J3 et J4, et aussi l'algorithme GF (du TP1) et comparer les deux algorithmes\n",
    "\n",
    "def GC_J34(J, A, u0, eps, Kmax):\n",
    "    u = u0\n",
    "    d = J(u)[1]\n",
    "    G = J(u)[1]\n",
    "    cost = []\n",
    "    itrs = []\n",
    "    cost.append(J(u)[0])\n",
    "    \n",
    "    for k in range(Kmax):\n",
    "        \n",
    "        rho = (np.dot(G, d)) / (np.dot(np.dot(A, d), d))\n",
    "        u = u - rho * d\n",
    "        G = J(u)[1]\n",
    "        beta = -np.dot(G, np.dot(A, d)) / np.dot(np.dot(A, d), d)\n",
    "        d = G + beta * d\n",
    "        \n",
    "        cost.append(J(u)[0])\n",
    "        itrs.append(k)\n",
    "        \n",
    "        if(np.linalg.norm(d) <= eps):\n",
    "            #print('terminé')\n",
    "            break\n",
    "    \n",
    "    itrs.append(k+1)\n",
    "    return u, k+1, cost, itrs\n",
    "\n",
    "t=0.5\n",
    "\n",
    "def GF(J, A, u0, t, eps, Kmax):\n",
    "    u = u0\n",
    "    costGF = []\n",
    "    itrsGF = []\n",
    "\n",
    "    for k in range(Kmax):\n",
    "        G = J(u)[1]\n",
    "        u = u - t * G\n",
    "\n",
    "        costGF.append(J(u)[0])\n",
    "        itrsGF.append(k)\n",
    "        \n",
    "        if np.linalg.norm(G) < eps:\n",
    "            break\n",
    "    \n",
    "    return u, k, costGF, itrsGF"
   ]
  },
  {
   "cell_type": "code",
   "execution_count": 122,
   "metadata": {},
   "outputs": [
    {
     "name": "stdout",
     "output_type": "stream",
     "text": [
      "Fonction J3: N =  10\n",
      "\n",
      "Gradient conjugué:\n",
      "Le nombre d'itérations est : 5\n",
      "Le vecteur optimal trouvé est :\n",
      " [ 5.  9. 12. 14. 15. 15. 14. 12.  9.  5.]\n",
      "\n",
      "Gradient fixe:\n",
      "Le nombre d'itérations est : 417\n",
      "Le vecteur optimal trouvé est :\n",
      " [ 4.99999986  8.99999974 11.99999963 13.99999956 14.99999952 14.99999952\n",
      " 13.99999956 11.99999963  8.99999974  4.99999986]\n"
     ]
    }
   ],
   "source": [
    "N = 10\n",
    "u0 = np.zeros(N)\n",
    "\n",
    "n = len (u0)\n",
    "A = 2*np.eye(n) - np.diag(np.ones(n-1),1) - np.diag(np.ones(n-1),-1)\n",
    "\n",
    "gc3 = GC_J34(J3, A, u0, eps, Kmax)\n",
    "gf = GF(J3, A, u0, t, eps, Kmax)\n",
    "\n",
    "print(\"Fonction J3: N = \", N)\n",
    "print(\"\\nGradient conjugué:\\nLe nombre d'itérations est : \" +str(gc3[1])+ \"\\nLe vecteur optimal trouvé est :\\n\", gc3[0])\n",
    "print(\"\\nGradient fixe:\\nLe nombre d'itérations est : \" +str(gf[1])+ \"\\nLe vecteur optimal trouvé est :\\n\", gf[0])\n",
    "\n"
   ]
  },
  {
   "cell_type": "code",
   "execution_count": 137,
   "metadata": {},
   "outputs": [
    {
     "name": "stdout",
     "output_type": "stream",
     "text": [
      "Fonction J4: N =  10\n",
      "\n",
      "Gradient conjugué:\n",
      "Le nombre d'itérations est : 4\n",
      "Le vecteur optimal trouvé est :\n",
      " [1.45833333 2.08333333 2.75       3.125      3.33333333 3.33333333\n",
      " 3.125      2.75       2.08333333 1.45833333]\n",
      "\n",
      "Gradient fixe:\n",
      "Le nombre d'itérations est : 468\n",
      "Le vecteur optimal trouvé est :\n",
      " [1.45833329 2.08333327 2.74999991 3.1249999  3.33333322 3.33333322\n",
      " 3.1249999  2.74999991 2.08333327 1.45833329]\n"
     ]
    }
   ],
   "source": [
    "N = 10\n",
    "u0 = np.zeros(N)\n",
    "t = 0.1\n",
    "n = len (u0)\n",
    "B = np.diag(coefficients[2] * np.ones(n)) + np.diag(coefficients[1] * np.ones(n-1), k=1) + np.diag(coefficients[0] * np.ones(n-2), k=2) + np.diag(coefficients[3] * np.ones(n-1), k=-1) + np.diag(coefficients[4] * np.ones(n-2), k=-2)\n",
    "\n",
    "gc3 = GC_J34(J4, B, u0, eps, Kmax)\n",
    "gf = GF(J4, A, u0, t, eps, Kmax)\n",
    "\n",
    "print(\"Fonction J4: N = \", N)\n",
    "print(\"\\nGradient conjugué:\\nLe nombre d'itérations est : \" +str(gc3[1])+ \"\\nLe vecteur optimal trouvé est :\\n\", gc3[0])\n",
    "print(\"\\nGradient fixe:\\nLe nombre d'itérations est : \" +str(gf[1])+ \"\\nLe vecteur optimal trouvé est :\\n\", gf[0])\n"
   ]
  },
  {
   "cell_type": "code",
   "execution_count": 141,
   "metadata": {},
   "outputs": [
    {
     "data": {
      "image/png": "[encoded data removed]",
      "text/plain": [
       "<Figure size 800x550 with 1 Axes>"
      ]
     },
     "metadata": {},
     "output_type": "display_data"
    }
   ],
   "source": [
    "import matplotlib.pyplot as plt\n",
    "\n",
    "plt.plot(gc[3], gc[2], color=\"g\", label = 'Gradient conjugué') \n",
    "\n",
    "x = gf[3][:6]\n",
    "y = gf[2][:6]\n",
    "plt.plot(x, y, color=\"red\", label = 'Gradient fixe')\n",
    "\n",
    "plt.xlabel(\"Step\")\n",
    "plt.ylabel(\"Cost\")\n",
    "plt.legend()\n",
    "plt.show()"
   ]
  },
  {
   "cell_type": "markdown",
   "metadata": {
    "id": "lOBB6-1QkeSp"
   },
   "source": [
    "## Etape 3.\n",
    "\n",
    "> - Effectuer une étude du comportement de NLGC (Fletcher-Reeves à pas constant bien choisi) vis à vis du paramètre $\\epsilon$ pour la fonction quadratique suivante $(N = 10, 20, 40)$ :\n",
    "$$\n",
    "J_{\\epsilon}(v)=\\sum_{i=1}^{i=N}\\left(v_{i}\\right)^{2}+\\frac{1}{\\epsilon} \\sum_{i=1}^{N-1}\\left\\{\\left(v_{i}+v_{i+1}-N / 2\\right)\\right\\}^{2}\n",
    "$$\n",
    "On fera l’étude pour $\\epsilon > 0$ de plus en plus petit, par exemple $\\epsilon = 10^{-p}, p = 0, 1, 2, 3$. Comparer la solution optimale calculée $u^∗$ ainsi que son coût $J_\\epsilon(u^∗)$ et son gradient à ceux du vecteur $c$ défini par $c_i = N/4$ $(i = 1,\\dots, N)$. Interpréter les résultats obtenus."
   ]
  },
  {
   "cell_type": "markdown",
   "metadata": {
    "id": "ogUVRX4ZfeA6"
   },
   "source": [
    "\n",
    "On rappelle que dans le cas d'une fonction quadratique\n",
    "$J(v)=\\frac{1}{2} \\langle A v, v \\rangle -\\langle b, v\\rangle+c$, l'algorithme NLGC (Fletcher-Reeves à pas constant) s'écrit comme suit:\n",
    "\n",
    "**Pseudocode**\n",
    "\n",
    ">  \n",
    "- Initialisation: $u_0 \\in {\\mathbb R}^n$ arbitraire, $d_0 = \\nabla J(u_0) \\in {\\mathbb R}^n$ et un pas fixe $\\rho>0$\n",
    "- Itérations: répéter pour $k=0,1,\\dots$\n",
    "  - calculer le gradient $G_k = \\nabla J (u_{k})$;\n",
    "  - poser $u_{k+1} = u_{k} - \\rho d_k$;\n",
    "  - calculer le gradient $G_{k+1}=\\nabla J (u_{k+1})$;\n",
    "  - calculer $\\beta_k$,\n",
    "  $$\n",
    "  \\beta_k = \\frac{ \\langle G_{k+1}, G_{k+1}\\rangle}{\\langle G_{k}, G_{k}\\rangle}; \\quad\\text{ (Fletcher-Reeves) }\n",
    "  $$\n",
    "  - poser $d_{k+1} = \\nabla J(u_{k+1}) + \\beta_k d_k$;\n",
    "- Critère d'arrêt:  $\\| d_k \\|_2 \\leq \\epsilon'$\n"
   ]
  },
  {
   "cell_type": "code",
   "execution_count": 253,
   "metadata": {
    "id": "cGVhPAOakeSq"
   },
   "outputs": [],
   "source": [
    "def Jeps(epsilon, v):\n",
    "    ## calculer la valeur et le gradient de la fonction J(epsilon, v)\n",
    "    \n",
    "    N = len(v)\n",
    "    a = v[:-1] + v[1:] - (N/2)\n",
    "    b = np.dot(v, v) + ((1 / epsilon) * (np.dot(a, a)))\n",
    "    \n",
    "    g1 = 2*(v[0] + v[1] - (N/2))\n",
    "    g2 = (2*v[0:N-2]) + (4*v[1:N-1]) + (2*v[2:N]) - (2*N)\n",
    "    g3 = 2*(v[N-2] + v[N-1] - (N/2))\n",
    "    \n",
    "    g4 = np.hstack((g1, g2))\n",
    "    g5 = np.hstack((g4, g3))\n",
    "    g = (2 * v) + ((1 / epsilon) * (g5))\n",
    "\n",
    "    return b, g\n"
   ]
  },
  {
   "cell_type": "code",
   "execution_count": 254,
   "metadata": {},
   "outputs": [
    {
     "data": {
      "text/plain": [
       "(91.0, array([ -4., -10., -10., -10., -10., -10., -10., -10., -10.,  -4.]))"
      ]
     },
     "execution_count": 254,
     "metadata": {},
     "output_type": "execute_result"
    }
   ],
   "source": [
    "N = 10\n",
    "u0 = np.ones(N)\n",
    "Jeps(1, u0)"
   ]
  },
  {
   "cell_type": "code",
   "execution_count": 255,
   "metadata": {
    "id": "4NsmSo8DSsrQ"
   },
   "outputs": [],
   "source": [
    "## Implémenter ici l'algorithme du NLGC pour Jeps\n",
    "\n",
    "def g_nlgc(Jeps, u0, epsilon, rho, eps, Kmax):\n",
    "    u = u0\n",
    "    \n",
    "    costj = []\n",
    "    itrsj = []\n",
    "    d = Jeps(epsilon, u)[1]\n",
    "    costj.append(Jeps(epsilon, u)[0])\n",
    "    \n",
    "    for k in range(Kmax):\n",
    "        \n",
    "        \n",
    "        G1 = Jeps(epsilon, u)[1]\n",
    "        u = u - rho*d\n",
    "        G2 = Jeps(epsilon, u)[1]\n",
    "        #print(G2)\n",
    "        \n",
    "        beta = np.dot(G2, G2) / np.dot(G1, G1)\n",
    "        \n",
    "        d1 = G2 + beta*d\n",
    "        \n",
    "        d = d1\n",
    "        \n",
    "        costj.append(Jeps(epsilon, u)[0])\n",
    "        itrsj.append(k)\n",
    "        \n",
    "        if np.linalg.norm(d) <= eps:\n",
    "            break\n",
    "        \n",
    "        itrsj.append(k+1)\n",
    "        \n",
    "    return u, k+1\n"
   ]
  },
  {
   "cell_type": "code",
   "execution_count": 257,
   "metadata": {},
   "outputs": [
    {
     "name": "stdout",
     "output_type": "stream",
     "text": [
      "(array([2.4938026 , 2.5037036 , 2.4962865 , 2.50122712, 2.49875804,\n",
      "       2.49875804, 2.50122712, 2.4962865 , 2.5037036 , 2.4938026 ]), 166)\n"
     ]
    }
   ],
   "source": [
    "epsilon = 1.e-3\n",
    "rho = 1.e-4\n",
    "N = 10\n",
    "u0 = np.zeros(N)\n",
    "\n",
    "q = g_nlgc(Jeps, u0, epsilon, rho, eps, Kmax)\n",
    "print(q)"
   ]
  },
  {
   "cell_type": "code",
   "execution_count": null,
   "metadata": {},
   "outputs": [],
   "source": []
  }
 ],
 "metadata": {
  "colab": {
   "provenance": []
  },
  "kernelspec": {
   "display_name": "Python 3 (ipykernel)",
   "language": "python",
   "name": "python3"
  },
  "language_info": {
   "codemirror_mode": {
    "name": "ipython",
    "version": 3
   },
   "file_extension": ".py",
   "mimetype": "text/x-python",
   "name": "python",
   "nbconvert_exporter": "python",
   "pygments_lexer": "ipython3",
   "version": "3.11.5"
  },
  "toc": {
   "base_numbering": 1,
   "nav_menu": {},
   "number_sections": true,
   "sideBar": true,
   "skip_h1_title": false,
   "title_cell": "Table of Contents",
   "title_sidebar": "Contents",
   "toc_cell": false,
   "toc_position": {},
   "toc_section_display": true,
   "toc_window_display": false
  },
  "varInspector": {
   "cols": {
    "lenName": 16,
    "lenType": 16,
    "lenVar": 40
   },
   "kernels_config": {
    "python": {
     "delete_cmd_postfix": "",
     "delete_cmd_prefix": "del ",
     "library": "var_list.py",
     "varRefreshCmd": "print(var_dic_list())"
    },
    "r": {
     "delete_cmd_postfix": ") ",
     "delete_cmd_prefix": "rm(",
     "library": "var_list.r",
     "varRefreshCmd": "cat(var_dic_list()) "
    }
   },
   "types_to_exclude": [
    "module",
    "function",
    "builtin_function_or_method",
    "instance",
    "_Feature"
   ],
   "window_display": false
  }
 },
 "nbformat": 4,
 "nbformat_minor": 1
}
