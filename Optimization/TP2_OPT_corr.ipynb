{
 "cells": [
  {
   "cell_type": "markdown",
   "metadata": {
    "id": "19D0FpH4keSk"
   },
   "source": [
    "# TP 2 : Méthode de gradient conjugué\n",
    "Le but de cette deuxième partie du TP est de programmer, valider et expérimenter l’algorithme du gradient conjugué GC (et sa variante Fletcher-Reeves).\n"
   ]
  },
  {
   "cell_type": "markdown",
   "metadata": {
    "id": "5an1Z18okeSl"
   },
   "source": [
    "## Etape 1.\n",
    "> Rappeler l’algorithme GC et l’implémenter. On pourra utilement se servir comme point de départ des codes de gradient développés en Partie 1. Effectuer les tests de validation rapide pour les fonctions quadratiques suivantes ($N = 10, 20, 40$) :\n",
    "$$\n",
    "J_{1}(v)=\\sum_{i=1}^{i=N}\\left(v_{i}-1\\right)^{2}, \\quad J_{2}(v)=\\sum_{i=1}^{i=N}\\left(v_{i}-i\\right)^{2}\n",
    "$$"
   ]
  },
  {
   "cell_type": "markdown",
   "metadata": {
    "id": "etWC-oExqZ4R"
   },
   "source": [
    "\n",
    "On rappelle que pour une fonction $J$ quadratique :\n",
    "$$\n",
    "J(v)=\\frac{1}{2} \\langle A v, v \\rangle -\\langle b, v\\rangle; \\quad\\quad\\quad \\nabla J(v)=A v-b\n",
    "$$\n",
    "où $A$ est une matrice symétrique définie positive, l'algorithme GC s'écrit comme suit:\n",
    "\n",
    "**Pseudocode**\n",
    "\n",
    ">  \n",
    "- Initialisation: $u_0 \\in {\\mathbb R}^n$ arbitraire, $d_0 = \\nabla J(u_0) \\in {\\mathbb R}^n$\n",
    "- Itérations: répéter pour $k=0,1,\\dots$\n",
    "  - calculer le gradient $G_k = \\nabla J (u_{k})$;\n",
    "  - calculer $\\rho_k$\n",
    "  $$\n",
    "  \\rho_k = \\frac{ \\langle G_k, d_{k}\\rangle}{\\langle A d_{k}, d_{k}\\rangle};\n",
    "  $$\n",
    "  - poser $u_{k+1} = u_{k} - \\rho_k d_k$;\n",
    "  - calculer le gradient $G_{k+1}=\\nabla J (u_{k+1})$;\n",
    "  - calculer $\\beta_k$,\n",
    "  $$\n",
    "  \\beta_k = -\\frac{ \\langle G_{k+1}, Ad_{k}\\rangle}{\\langle A d_{k}, d_{k}\\rangle};\n",
    "  $$\n",
    "  - poser $d_{k+1} = \\nabla J(u_{k+1}) + \\beta_k d_k$;\n",
    "- Critère d'arrêt:  $\\| d_k \\|_2 \\leq \\epsilon$\n"
   ]
  },
  {
   "cell_type": "code",
   "execution_count": null,
   "metadata": {
    "id": "qPZSyI3KQE4K"
   },
   "outputs": [],
   "source": [
    "import numpy as np\n",
    "\n",
    "g = np.diag([1,1,1])\n",
    "g"
   ]
  },
  {
   "cell_type": "code",
   "execution_count": 6,
   "metadata": {
    "id": "E8UuFvcAQE4K"
   },
   "outputs": [],
   "source": [
    "def J1 (v): # rappelle des fonctions du TP1. Cette fonction retourne la valeur de la fonction et de sont gradient\n",
    "    N = len(v)\n",
    "    ones = np.ones (N)\n",
    "    return [np.dot(v-ones,v-ones), 2*(v-ones)]\n",
    "\n",
    "def J2 (v):\n",
    "    N = len(v)\n",
    "    r = np.arange (1,N+1)\n",
    "    return [np.dot(v-r,v-r), 2*(v-r)]"
   ]
  },
  {
   "cell_type": "markdown",
   "metadata": {
    "id": "jC-5G0bLWOPG"
   },
   "source": [
    "On remarque que dans le cas des fonctions $J_1$ et $J_2$, on a $A = 2 I$ où $I$ est la matrice identité."
   ]
  },
  {
   "cell_type": "code",
   "execution_count": 50,
   "metadata": {
    "id": "_J3WXeu1qZIG"
   },
   "outputs": [
    {
     "name": "stdout",
     "output_type": "stream",
     "text": [
      "La solution est:  [1. 1. 1. 1. 1. 1. 1. 1. 1. 1. 1. 1. 1. 1. 1. 1. 1. 1. 1. 1.] après  1  itérations\n",
      "La solution est:  [ 1.  2.  3.  4.  5.  6.  7.  8.  9. 10. 11. 12. 13. 14. 15. 16. 17. 18.\n",
      " 19. 20.] après  1  itérations\n"
     ]
    }
   ],
   "source": [
    "## Implémenter ici l'algorithme du GC pour J1 et J2\n",
    "#Pour J1\n",
    "N = 20\n",
    "A = 2*np.eye(N)\n",
    "u0 = np.zeros(N)\n",
    "eps = 1.e-7; # tolerance sur la norme du gradient\n",
    "uk = u0\n",
    "a = 1\n",
    "i = 0\n",
    "dk = J1(u0)[1]\n",
    "\n",
    "while a > eps:\n",
    "    Gk = J1(uk)[1]\n",
    "    bk = np.dot(Gk,dk)/np.dot(np.dot(A,dk),dk)\n",
    "    uk = uk - bk*dk\n",
    "    Gk = J1(uk)[1]\n",
    "    ck = - np.dot(Gk,np.dot(A,dk))/np.dot(np.dot(A,dk),dk)\n",
    "    dk = J1(uk)[1] + ck*dk\n",
    "    a = np.linalg.norm(dk)\n",
    "    i+=1\n",
    "print('La solution est: ', uk, 'après ', i, ' itérations')\n",
    "\n",
    "#Pour J2\n",
    "\n",
    "uk = u0\n",
    "a = 1\n",
    "i = 0\n",
    "dk = J2(u0)[1]\n",
    "while a > eps:\n",
    "    Gk = J2(uk)[1]\n",
    "    bk = np.dot(Gk,dk)/np.dot(np.dot(A,dk),dk)\n",
    "    uk = uk - bk*dk\n",
    "    Gk = J2(uk)[1]\n",
    "    ck = - np.dot(Gk,np.dot(A,dk))/np.dot(np.dot(A,dk),dk)\n",
    "    dk = J2(uk)[1] + ck*dk\n",
    "    a = np.linalg.norm(dk)\n",
    "    i+=1\n",
    "print('La solution est: ', uk, 'après ', i, ' itérations')\n"
   ]
  },
  {
   "cell_type": "markdown",
   "metadata": {
    "id": "2bOSmidvkeSl"
   },
   "source": [
    "## Etape 2.\n",
    "On considère les fonctions quadratiques suivantes (en dimension $N$) :\n",
    "\n",
    "$$\n",
    "J_3(v)= \\frac 12\\langle Av,v \\rangle− \\langle f,v \\rangle , \\quad\\quad\\quad J_4(v)= \\frac 12 \\langle B v,v\\rangle − \\langle f,v\\rangle\n",
    "$$\n",
    "avec $f = (1,...,1)$ et les matrices $A$ et $B$ sont des matrices bande données par :\n",
    "\n",
    "$$\n",
    "A = {\\rm tridiag}[−1, 2, −1],\\quad\\quad\\quad B = {\\rm pentadiag}[−1, −1, 4, −1, −1]\n",
    "$$\n",
    "\n",
    "$$\n",
    "A=\\left(\\begin{array}{ccccc}\n",
    "2 & -1 & 0 & \\cdots & \\\\\n",
    "-1 & 2 & -1 & 0 & \\cdots \\\\\n",
    "0 & -1 & 2 & -1 & \\cdots \\\\\n",
    "\\cdots & \\cdots & \\cdots & \\cdots & \\cdots \\\\\n",
    "\\cdots & \\cdots & \\cdots & -1 & 2\n",
    "\\end{array}\\right)\n",
    "\\quad\\quad\\quad \\mbox{et même principe pour } B\n",
    "$$\n"
   ]
  },
  {
   "cell_type": "markdown",
   "metadata": {
    "id": "xl_adM0wtNmq"
   },
   "source": [
    "\n",
    "> - Minimiser les fonctions $J_3$ et $J_4$ par GC ($N = 20,40,80,100,200$), et\n",
    "- Comparer sur ces fonctions les performances de GC et de GF (avec un pas $t = 0.5$).\n",
    "- On tracera sur un même graphique les courbes GC et GF de convergence du coût en fonction des itérations."
   ]
  },
  {
   "cell_type": "code",
   "execution_count": null,
   "metadata": {
    "id": "HIsiU2HtkeSm"
   },
   "outputs": [
    {
     "name": "stdout",
     "output_type": "stream",
     "text": [
      "5.0\n",
      "0.8\n",
      "0.75\n",
      "0.6666666666666666\n",
      "0.5\n",
      "Pour J3, La solution est:  [ 5.  9. 12. 14. 15. 15. 14. 12.  9.  5.] après  5  itérations et la valeur minimale est:  -55.0\n",
      "Pour GC appliquée à J4, La solution est:  [1.45833333 2.08333333 2.75       3.125      3.33333333 3.33333333\n",
      " 3.125      2.75       2.08333333 1.45833333] après  4  itérations et la valeur minimale est:  -12.749999999999998\n",
      "Pour GF appliquée à J3 le nombre d'itération:417 et le vecteur trouvé uk= [ 4.99999986  8.99999973 11.99999962 13.99999954 14.9999995  14.9999995\n",
      " 13.99999954 11.99999962  8.99999973  4.99999986]\n"
     ]
    }
   ],
   "source": [
    "n = 10\n",
    "u0 = np.zeros(n)\n",
    "eps = 1.e-7; # tolerance sur la norme du gradient\n",
    "\n",
    "B = 4*np.eye(n) - np.diag(np.ones(n-1),1) - np.diag(np.ones(n-2),2) - np.diag(np.ones(n-1),-1) - np.diag(np.ones(n-2),-2)\n",
    "A = 2*np.eye(n) - np.diag(np.ones(n-1),1) - np.diag(np.ones(n-1),-1)\n",
    "\n",
    "def J3 (v):\n",
    "    n = len (v)\n",
    "    A = 2*np.eye(n) - np.diag(np.ones(n-1),1) - np.diag(np.ones(n-1),-1)\n",
    "    f = np.ones(len(v))\n",
    "    return 0.5*np.dot(np.dot(A,v),v) - np.dot(f,v), np.dot(A,v) - f\n",
    "\n",
    "def J4 (v):\n",
    "  #faire la même chose pour J4 (utiliser np.diag)\n",
    "    B = 4*np.eye(n) - np.diag(np.ones(n-1),1) - np.diag(np.ones(n-2),2) - np.diag(np.ones(n-1),-1) - np.diag(np.ones(n-2),-2)\n",
    "    f = np.ones(len(v))\n",
    "    return 0.5*np.dot(np.dot(B,v),v) - np.dot(f,v), np.dot(B,v) - f\n",
    "\n",
    "x =[]\n",
    "y =[]\n",
    "uk = u0\n",
    "a = 1\n",
    "j = 0\n",
    "dk = J3(u0)[1]\n",
    "while a > eps:\n",
    "    x.append(j)\n",
    "    y.append(J3(uk)[0])\n",
    "    Gk = J3(uk)[1]\n",
    "    bk = np.dot(Gk,dk)/np.dot(np.dot(A,dk),dk)\n",
    "    print(bk)\n",
    "    uk = uk - bk*dk\n",
    "    Gk = J3(uk)[1]\n",
    "    ck = - np.dot(Gk,np.dot(A,dk))/np.dot(np.dot(A,dk),dk)\n",
    "    dk = J3(uk)[1] + ck*dk\n",
    "    a = np.linalg.norm(dk)\n",
    "    j+=1\n",
    "print('Pour J3, La solution est: ', uk, 'après ', j, ' itérations et la valeur minimale est: ',J3(uk)[0])\n",
    "\n",
    "#J4\n",
    "\n",
    "uk = u0\n",
    "a = 1\n",
    "j = 0\n",
    "dk = J4(u0)[1]\n",
    "while a > eps:\n",
    "    Gk = J4(uk)[1]\n",
    "    bk = np.dot(Gk,dk)/np.dot(np.dot(B,dk),dk)\n",
    "    uk = uk - bk*dk\n",
    "    Gk = J4(uk)[1]\n",
    "    ck = - np.dot(Gk,np.dot(B,dk))/np.dot(np.dot(B,dk),dk)\n",
    "    dk = J4(uk)[1] + ck*dk\n",
    "    a = np.linalg.norm(dk)\n",
    "    j+=1\n",
    "print('Pour GC appliquée à J4, La solution est: ', uk, 'après ', j, ' itérations et la valeur minimale est: ',J4(uk)[0])\n",
    "\n",
    "#Pas fixe pour J3\n",
    "Kmax = 1500 ; # nombre max d'iterations\n",
    "# Pour le gradient à pas fixe : le pas est\n",
    "#t = 1;\n",
    "#t = 0.1;\n",
    "t = 0.5;\n",
    "\n",
    "\n",
    "# First guess : u0\n",
    "# Itérations de l'agorithme GF à completer...\n",
    "# vous pouvez utiliser la fonction np.linalg.norm pour évaluer la norme 2 d'un vecteur\n",
    "x1 = []\n",
    "y1 = []\n",
    "uk = u0\n",
    "val = 1\n",
    "i = 0\n",
    "while np.linalg.norm(val) > eps and i < Kmax:\n",
    "    x1.append(i)\n",
    "    y1.append(J3(uk)[0])\n",
    "    uk2 = uk - t*J3(uk)[1]\n",
    "    val = J3(uk2)[1]\n",
    "    uk = uk2\n",
    "    i+=1\n",
    "\n",
    "    \n",
    "## Afficher le nombre d'itération et le vecteur trouvé...\n",
    "print (\"Pour GF appliquée à J3 le nombre d'itération:{} et le vecteur trouvé uk= {}\".format(i,uk))\n",
    "\n",
    "\n"
   ]
  },
  {
   "cell_type": "code",
   "execution_count": 66,
   "metadata": {},
   "outputs": [
    {
     "data": {
      "text/plain": [
       "417"
      ]
     },
     "execution_count": 66,
     "metadata": {},
     "output_type": "execute_result"
    },
    {
     "data": {
      "image/png": "[encoded data removed]",
      "text/plain": [
       "<Figure size 640x480 with 1 Axes>"
      ]
     },
     "metadata": {},
     "output_type": "display_data"
    }
   ],
   "source": [
    "import matplotlib.pyplot as plt\n",
    "plt.plot(x,y,'r',label = 'GC')\n",
    "plt.plot(x1[:5],y1[:5],'b',label='GF')\n",
    "plt.legend()\n",
    "len(x1)"
   ]
  },
  {
   "cell_type": "code",
   "execution_count": null,
   "metadata": {
    "id": "lj_dzVdDSsAT"
   },
   "outputs": [],
   "source": [
    "## Implémenter ici l'algorithme du GC pour J3 et J4, et aussi l'algorithme GF (du TP1) et comparer les deux algorithmes"
   ]
  },
  {
   "cell_type": "markdown",
   "metadata": {
    "id": "lOBB6-1QkeSp"
   },
   "source": [
    "## Etape 3.\n",
    "\n",
    "> - Effectuer une étude du comportement de NLGC (Fletcher-Reeves à pas constant bien choisi) vis à vis du paramètre $\\epsilon$ pour la fonction quadratique suivante $(N = 10, 20, 40)$ :\n",
    "$$\n",
    "J_{\\epsilon}(v)=\\sum_{i=1}^{i=N}\\left(v_{i}\\right)^{2}+\\frac{1}{\\epsilon} \\sum_{i=1}^{N-1}\\left\\{\\left(v_{i}+v_{i+1}-N / 2\\right)\\right\\}^{2}\n",
    "$$\n",
    "On fera l’étude pour $\\epsilon > 0$ de plus en plus petit, par exemple $\\epsilon = 10^{-p}, p = 0, 1, 2, 3$. Comparer la solution optimale calculée $u^∗$ ainsi que son coût $J_\\epsilon(u^∗)$ et son gradient à ceux du vecteur $c$ défini par $c_i = N/4$ $(i = 1,\\dots, N)$. Interpréter les résultats obtenus."
   ]
  },
  {
   "cell_type": "markdown",
   "metadata": {
    "id": "ogUVRX4ZfeA6"
   },
   "source": [
    "\n",
    "On rappelle que dans le cas d'une fonction quadratique\n",
    "$J(v)=\\frac{1}{2} \\langle A v, v \\rangle -\\langle b, v\\rangle+c$, l'algorithme NLGC (Fletcher-Reeves à pas constant) s'écrit comme suit:\n",
    "\n",
    "**Pseudocode**\n",
    "\n",
    ">  \n",
    "- Initialisation: $u_0 \\in {\\mathbb R}^n$ arbitraire, $d_0 = \\nabla J(u_0) \\in {\\mathbb R}^n$ et un pas fixe $\\rho>0$\n",
    "- Itérations: répéter pour $k=0,1,\\dots$\n",
    "  - calculer le gradient $G_k = \\nabla J (u_{k})$;\n",
    "  - poser $u_{k+1} = u_{k} - \\rho d_k$;\n",
    "  - calculer le gradient $G_{k+1}=\\nabla J (u_{k+1})$;\n",
    "  - calculer $\\beta_k$,\n",
    "  $$\n",
    "  \\beta_k = \\frac{ \\langle G_{k+1}, G_{k+1}\\rangle}{\\langle G_{k}, G_{k}\\rangle}; \\quad\\text{ (Fletcher-Reeves) }\n",
    "  $$\n",
    "  - poser $d_{k+1} = \\nabla J(u_{k+1}) + \\beta_k d_k$;\n",
    "- Critère d'arrêt:  $\\| d_k \\|_2 \\leq \\epsilon'$\n"
   ]
  },
  {
   "cell_type": "code",
   "execution_count": 71,
   "metadata": {
    "id": "cGVhPAOakeSq"
   },
   "outputs": [
    {
     "data": {
      "text/plain": [
       "(225.0, array([-10., -20., -20., -20., -20., -20., -20., -20., -20., -10.]))"
      ]
     },
     "execution_count": 71,
     "metadata": {},
     "output_type": "execute_result"
    }
   ],
   "source": [
    "n = 10\n",
    "def Jeps(epsilon, v):\n",
    "  ## calculer la valeur et le gradient de la fonction J(epsilon, v)\n",
    "    n = len(v)\n",
    "    M = 2*np.eye(n) + np.diag(np.ones(n-1),1) + np.diag(np.ones(n-1),-1)\n",
    "    M[0,0], M[n-1,n-1] = 1, 1\n",
    "    M = (2/epsilon)*M\n",
    "    A = 2*np.eye(n) + M\n",
    "    b = 2*np.ones(n)\n",
    "    b[0], b[n-1] = 1, 1\n",
    "    b = n/epsilon*b\n",
    "    c = ((n-1)*n**2)/(4*epsilon)\n",
    "    return 0.5*np.dot(np.dot(A,v),v) - np.dot(b,v) + c, np.dot(A,v) - b \n",
    "v = np.zeros(n)   \n",
    "eps = 1.e-3\n",
    "Jeps(1,v)"
   ]
  },
  {
   "cell_type": "code",
   "execution_count": 73,
   "metadata": {
    "id": "4NsmSo8DSsrQ"
   },
   "outputs": [
    {
     "name": "stdout",
     "output_type": "stream",
     "text": [
      "Pour Jeps, La solution est:  [2.4938026  2.5037036  2.4962865  2.50122712 2.49875804 2.49875804\n",
      " 2.50122712 2.4962865  2.5037036  2.4938026 ] après  167  itérations et la valeur minimale est:  62.46888926849351\n"
     ]
    }
   ],
   "source": [
    "## Implémenter ici l'algorithme du NLGC pour Jeps\n",
    "n = 10\n",
    "u0 = np.zeros(n)\n",
    "uk = u0\n",
    "a = 1\n",
    "j = 0\n",
    "dk = J3(u0)[1]\n",
    "er = 1.e-7\n",
    "eps = 1.e-3\n",
    "ro = 1.e-4\n",
    "while a > er:\n",
    "    x.append(j)\n",
    "    y.append(Jeps(eps,uk)[0])\n",
    "    Gk1 = Jeps(eps,uk)[1]\n",
    "    uk = uk - ro*dk\n",
    "    Gk = Jeps(eps,uk)[1]\n",
    "    ck =  np.dot(Gk,Gk)/np.dot(Gk1,Gk1)\n",
    "    dk = Jeps(eps,uk)[1] + ck*dk\n",
    "    a = np.linalg.norm(dk)\n",
    "    j+=1\n",
    "print('Pour Jeps, La solution est: ', uk, 'après ', j, ' itérations et la valeur minimale est: ',Jeps(eps,uk)[0])\n"
   ]
  },
  {
   "cell_type": "code",
   "execution_count": null,
   "metadata": {},
   "outputs": [],
   "source": []
  }
 ],
 "metadata": {
  "colab": {
   "provenance": []
  },
  "kernelspec": {
   "display_name": "Python 3 (ipykernel)",
   "language": "python",
   "name": "python3"
  },
  "language_info": {
   "codemirror_mode": {
    "name": "ipython",
    "version": 3
   },
   "file_extension": ".py",
   "mimetype": "text/x-python",
   "name": "python",
   "nbconvert_exporter": "python",
   "pygments_lexer": "ipython3",
   "version": "3.9.13"
  },
  "toc": {
   "base_numbering": 1,
   "nav_menu": {},
   "number_sections": true,
   "sideBar": true,
   "skip_h1_title": false,
   "title_cell": "Table of Contents",
   "title_sidebar": "Contents",
   "toc_cell": false,
   "toc_position": {},
   "toc_section_display": true,
   "toc_window_display": false
  },
  "varInspector": {
   "cols": {
    "lenName": 16,
    "lenType": 16,
    "lenVar": 40
   },
   "kernels_config": {
    "python": {
     "delete_cmd_postfix": "",
     "delete_cmd_prefix": "del ",
     "library": "var_list.py",
     "varRefreshCmd": "print(var_dic_list())"
    },
    "r": {
     "delete_cmd_postfix": ") ",
     "delete_cmd_prefix": "rm(",
     "library": "var_list.r",
     "varRefreshCmd": "cat(var_dic_list()) "
    }
   },
   "types_to_exclude": [
    "module",
    "function",
    "builtin_function_or_method",
    "instance",
    "_Feature"
   ],
   "window_display": false
  }
 },
 "nbformat": 4,
 "nbformat_minor": 1
}
