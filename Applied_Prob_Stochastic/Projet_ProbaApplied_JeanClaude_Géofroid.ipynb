{
  "cells": [
    {
      "cell_type": "markdown",
      "id": "lWyHF0bPhBSG",
      "metadata": {
        "id": "lWyHF0bPhBSG"
      },
      "source": [
        "*Projet Probabilité Appliqué:*\n",
        "> + MITCHOZOUNOU Sagbo Jean-Claude\n",
        "> + LONMANDON Géofroid"
      ]
    },
    {
      "cell_type": "markdown",
      "id": "dcfe1100",
      "metadata": {
        "id": "dcfe1100"
      },
      "source": [
        "# 1 Simulation des V.A à valeurs dans un ensemble fini et les chaînes de Markov."
      ]
    },
    {
      "cell_type": "markdown",
      "id": "5a7ecb82",
      "metadata": {
        "id": "5a7ecb82"
      },
      "source": [
        "\n",
        "![](https://datascientest.com/wp-content/uploads/2021/03/illu_markov_blog-103-2048x1124.png)"
      ]
    },
    {
      "cell_type": "code",
      "execution_count": 2,
      "id": "44031885",
      "metadata": {
        "colab": {
          "base_uri": "https://localhost:8080/"
        },
        "id": "44031885",
        "outputId": "1d5b27b6-afb9-4ce4-d5c2-f5ef95fb193d"
      },
      "outputs": [
        {
          "data": {
            "text/plain": [
              "array([[0.5, 0.5, 0. ],\n",
              "       [0. , 0. , 1. ],\n",
              "       [1. , 0. , 0. ]])"
            ]
          },
          "execution_count": 2,
          "metadata": {},
          "output_type": "execute_result"
        }
      ],
      "source": [
        "import numpy as np\n",
        "import matplotlib.pyplot as plt\n",
        "A = np.array([[1/2,1/2,0],[0,0,1],[1,0,0]])\n",
        "A"
      ]
    },
    {
      "cell_type": "markdown",
      "id": "65f8be63",
      "metadata": {
        "id": "65f8be63"
      },
      "source": [
        "## 1.1 Généralités sur les chaînes de Markov."
      ]
    },
    {
      "cell_type": "markdown",
      "id": "d62fc83c",
      "metadata": {
        "id": "d62fc83c"
      },
      "source": [
        "+  1- Réalisons une fonction python accessibleN(i, j, P, N) qui demande comme arguments l’état i, l’état j la matrice de passage P et un entier N. la fonction accessibleN(i, j, P, N) doit retourner 1 s’il existe un chemin de longueur N de i vers j et 0 sinon.\n"
      ]
    },
    {
      "cell_type": "code",
      "execution_count": 3,
      "id": "3c9bf198",
      "metadata": {
        "colab": {
          "base_uri": "https://localhost:8080/"
        },
        "id": "3c9bf198",
        "outputId": "cb21fe2e-d576-4e22-eaf2-cbdde56abbb4"
      },
      "outputs": [
        {
          "data": {
            "text/plain": [
              "1"
            ]
          },
          "execution_count": 3,
          "metadata": {},
          "output_type": "execute_result"
        }
      ],
      "source": [
        "\n",
        "def accessibleN(i,j,P,N):\n",
        "    P_N = np.linalg.matrix_power(P,N)\n",
        "    if P_N[i-1,j-1]!=0:\n",
        "        return 1\n",
        "    else:\n",
        "        return 0\n",
        "K = accessibleN(3,1,A,3)\n",
        "K"
      ]
    },
    {
      "cell_type": "markdown",
      "id": "a2fd4c58",
      "metadata": {
        "id": "a2fd4c58"
      },
      "source": [
        "+ 2- Réalisons une fonction python accessible(i, j, P) qui demande comme arguments l’état i, l’état j et la matrice de passage P. la fonction accessible(i, j, P) doit retourner 1 s’il existe un chemin de i vers j et 0 sinon."
      ]
    },
    {
      "cell_type": "code",
      "execution_count": 4,
      "id": "18da313c",
      "metadata": {
        "colab": {
          "base_uri": "https://localhost:8080/"
        },
        "id": "18da313c",
        "outputId": "738e474a-8e71-4666-a3da-e7836f1a1b1f"
      },
      "outputs": [
        {
          "data": {
            "text/plain": [
              "1"
            ]
          },
          "execution_count": 4,
          "metadata": {},
          "output_type": "execute_result"
        }
      ],
      "source": [
        "def accessible(i,j,P):\n",
        "    m = len(P)\n",
        "    n = 0\n",
        "    for N in range(1,m+1):\n",
        "        n += accessibleN(i,j,P,N)\n",
        "    if n!=0:\n",
        "        return 1\n",
        "    else:\n",
        "        return 0\n",
        "\n",
        "G = accessible(3,3,A)\n",
        "G"
      ]
    },
    {
      "cell_type": "markdown",
      "id": "9a43e61a",
      "metadata": {
        "id": "9a43e61a"
      },
      "source": [
        "+ 3- Réalisons une fonction recurrente(i, P) qui demande comme argument un état i et la matrice de passage P et qui retourne 1 si l’état i est récurrente et 0 sinon"
      ]
    },
    {
      "cell_type": "code",
      "execution_count": 5,
      "id": "43a2f9e5",
      "metadata": {
        "colab": {
          "base_uri": "https://localhost:8080/"
        },
        "id": "43a2f9e5",
        "outputId": "f1e6ca9b-0278-444d-b8e4-b1e43498193e"
      },
      "outputs": [
        {
          "data": {
            "text/plain": [
              "1"
            ]
          },
          "execution_count": 5,
          "metadata": {},
          "output_type": "execute_result"
        }
      ],
      "source": [
        "def reccurente(i,P):\n",
        "    m = len(P)\n",
        "    A_i =[]\n",
        "    n = 0\n",
        "    for j in range(1,m+1):\n",
        "        if j!=i and accessible(i,j,P):\n",
        "            A_i.append(j)\n",
        "\n",
        "    if A_i!= []:\n",
        "        for k in A_i:\n",
        "            n += accessible(k,i,P)\n",
        "        if n == len(A_i):\n",
        "            return 1\n",
        "        else:\n",
        "            return 0\n",
        "    else:\n",
        "        return 0\n",
        "\n",
        "\n",
        "\n",
        "l = reccurente(1,A)\n",
        "l"
      ]
    },
    {
      "cell_type": "markdown",
      "id": "ec4633c0",
      "metadata": {
        "id": "ec4633c0"
      },
      "source": [
        "+ 4- Réalisons une fonction python classes(P) qui demande comme argument la matrice de passage P et qui retourne les classes de la chaîne $(X_n)$"
      ]
    },
    {
      "cell_type": "code",
      "execution_count": 6,
      "id": "d739be6a",
      "metadata": {
        "colab": {
          "base_uri": "https://localhost:8080/"
        },
        "id": "d739be6a",
        "outputId": "793b17a2-f308-45b9-ce69-39588eb4b38b"
      },
      "outputs": [
        {
          "data": {
            "text/plain": [
              "[{1, 2, 3}]"
            ]
          },
          "execution_count": 6,
          "metadata": {},
          "output_type": "execute_result"
        }
      ],
      "source": [
        "def classes(P):\n",
        "    num_etats = len(P)\n",
        "    classes_list = []\n",
        "\n",
        "    for i in range(1,num_etats+1):\n",
        "        if not any(i in classe for classe in classes_list):\n",
        "            classe_actuelle = {i}\n",
        "            for j in range(1,num_etats+1):\n",
        "                if i != j and accessible(i, j, P) and accessible(j, i, P):\n",
        "                    classe_actuelle.add(j)\n",
        "            classes_list.append(classe_actuelle)\n",
        "\n",
        "    return classes_list\n",
        "classes(A)"
      ]
    },
    {
      "cell_type": "markdown",
      "id": "21a5f5c3",
      "metadata": {
        "id": "21a5f5c3"
      },
      "source": [
        "+ 5- Créeons une fonction python recurrente(P) qui demande comme argument la matrice de transition P et qui retourne les états récurrents"
      ]
    },
    {
      "cell_type": "code",
      "execution_count": 7,
      "id": "e9f4b556",
      "metadata": {
        "colab": {
          "base_uri": "https://localhost:8080/"
        },
        "id": "e9f4b556",
        "outputId": "f8b1fb70-a636-4db1-e067-38d7c6fc58c6"
      },
      "outputs": [
        {
          "data": {
            "text/plain": [
              "[1, 2, 3]"
            ]
          },
          "execution_count": 7,
          "metadata": {},
          "output_type": "execute_result"
        }
      ],
      "source": [
        "def reccurente_State(P):\n",
        "    m = len(P)\n",
        "    R =[]\n",
        "    for j in range(1,m+1):\n",
        "        if reccurente(j,P):\n",
        "            R.append(j)\n",
        "    return R\n",
        "\n",
        "L = reccurente_State(A)\n",
        "L"
      ]
    },
    {
      "cell_type": "code",
      "execution_count": null,
      "id": "2c4a4249",
      "metadata": {
        "id": "2c4a4249"
      },
      "outputs": [],
      "source": []
    },
    {
      "cell_type": "markdown",
      "id": "05db4c08",
      "metadata": {
        "id": "05db4c08"
      },
      "source": [
        "## 1.2 Exemple de simulation et vérification du théorème Ergodic."
      ]
    },
    {
      "cell_type": "code",
      "execution_count": 8,
      "id": "0e83fa85",
      "metadata": {
        "colab": {
          "base_uri": "https://localhost:8080/"
        },
        "id": "0e83fa85",
        "outputId": "7ce7c0de-83d9-4b2c-858b-76b1717d0378"
      },
      "outputs": [
        {
          "data": {
            "text/plain": [
              "array([[0. , 0. , 1. , 0. ],\n",
              "       [0.2, 0.3, 0. , 0.5],\n",
              "       [0.1, 0. , 0. , 0.9],\n",
              "       [0. , 0.3, 0.7, 0. ]])"
            ]
          },
          "execution_count": 8,
          "metadata": {},
          "output_type": "execute_result"
        }
      ],
      "source": [
        "P = np.array([[0,0,1,0],\n",
        "              [0.2,0.3,0,0.5],\n",
        "              [0.1,0,0,0.9],\n",
        "              [0,0.3,0.7,0]])\n",
        "P"
      ]
    },
    {
      "cell_type": "code",
      "execution_count": 9,
      "id": "154473db",
      "metadata": {
        "colab": {
          "base_uri": "https://localhost:8080/"
        },
        "id": "154473db",
        "outputId": "993cfe7f-017b-41fd-b771-d3d5e8024d26"
      },
      "outputs": [
        {
          "data": {
            "text/plain": [
              "[0.2, 0.1, 0.4, 0.3]"
            ]
          },
          "execution_count": 9,
          "metadata": {},
          "output_type": "execute_result"
        }
      ],
      "source": [
        "P_0 = [0.2,0.1,0.4,0.3]\n",
        "P_0\n"
      ]
    },
    {
      "cell_type": "markdown",
      "id": "4a9fe41c",
      "metadata": {
        "id": "4a9fe41c"
      },
      "source": [
        "+ 1- Créons une fonction python simulationX(S) qui demande comme argument une liste $S = [s_1 , ..., s_m ]$ et qui caractérise (comme retour) la simulation d’une variable aléatoire définie par : $X(\\Omega) = {1, 2, ..., m = card(S)}$ et $P(X = i) = s_i$."
      ]
    },
    {
      "cell_type": "code",
      "execution_count": 10,
      "id": "6e3f7c1f",
      "metadata": {
        "colab": {
          "base_uri": "https://localhost:8080/"
        },
        "id": "6e3f7c1f",
        "outputId": "c9f6c9d9-b6ce-40f3-d70e-12f4ce377216"
      },
      "outputs": [
        {
          "data": {
            "text/plain": [
              "2"
            ]
          },
          "execution_count": 10,
          "metadata": {},
          "output_type": "execute_result"
        }
      ],
      "source": [
        "def simulationX(S):\n",
        "    Interv = [0]\n",
        "    for p in S:\n",
        "        Interv.append(Interv[len(Interv)-1]+p) # Calcul des sommes des d'ordre k  des s_i et stockage\n",
        "\n",
        "    u = np.random.uniform()\n",
        "\n",
        "    for i in range(1,len(Interv)):\n",
        "        if Interv[i-1]<= u < Interv[i]:   #  Interv[i]-Interv[i-1] = s_i = P(X = i)\n",
        "            return i\n",
        "\n",
        "\n",
        "# Test\n",
        "S = [0.2,0.5,0.3]\n",
        "\n",
        "simulationX(S)"
      ]
    },
    {
      "cell_type": "markdown",
      "id": "4cf4e152",
      "metadata": {
        "id": "4cf4e152"
      },
      "source": [
        "+ 2- En utilisant la fonction précédente , réalisons 100000 observation selon $X_0$ . tester\n",
        "la loi des grandes nombres ( comparer entre $P(X_0 = i)$ et la fréquence de i dans\n",
        "l’enchantant obtenu)."
      ]
    },
    {
      "cell_type": "code",
      "execution_count": 11,
      "id": "7e8b34df",
      "metadata": {
        "id": "7e8b34df"
      },
      "outputs": [],
      "source": [
        "freq = np.zeros(len(P_0))\n",
        "for i in range(10000):\n",
        "    état = simulationX(P_0)\n",
        "    for j in range(1,len(P_0)+1):\n",
        "        if état == j:\n",
        "            freq[j-1] += 1\n",
        "\n",
        "freq\n",
        "\n",
        "P_simul = freq/10000"
      ]
    },
    {
      "cell_type": "code",
      "execution_count": 12,
      "id": "f17d5446",
      "metadata": {
        "colab": {
          "base_uri": "https://localhost:8080/",
          "height": 447
        },
        "id": "f17d5446",
        "outputId": "a5e13d09-c1ac-43e6-f119-dddfd4e88a39"
      },
      "outputs": [
        {
          "data": {
            "text/plain": [
              "<matplotlib.legend.Legend at 0x7fdd24032950>"
            ]
          },
          "execution_count": 12,
          "metadata": {},
          "output_type": "execute_result"
        },
        {
          "data": {
            "image/png": "[encoded data removed]",
            "text/plain": [
              "<Figure size 640x480 with 1 Axes>"
            ]
          },
          "metadata": {},
          "output_type": "display_data"
        }
      ],
      "source": [
        "plt.figure()\n",
        "plt.bar([1,2,3,4],P_0, label = \"distribution exacte\", width=0.8)\n",
        "plt.bar([1,2,3,4],P_simul, label = \"distribution simulée\", width=0.6)\n",
        "plt.xticks(ticks=[1,2,3,4], labels=[1,2,3,4])\n",
        "plt.legend()"
      ]
    },
    {
      "cell_type": "markdown",
      "id": "fb6f6d08",
      "metadata": {
        "id": "fb6f6d08"
      },
      "source": [
        "+ 3- Créeons une fonction python T rajectoire(l) qui demande comme argument un entier\n",
        "l et qui retourne une liste $[X_0 , X_1 , ...X_l ]$ (cette fonction nous donne une trajectoire\n",
        "la la chaîne de Markov $(X_n )$ de 0 jusqu’à l."
      ]
    },
    {
      "cell_type": "code",
      "execution_count": 13,
      "id": "1db9eda7",
      "metadata": {
        "colab": {
          "base_uri": "https://localhost:8080/"
        },
        "id": "1db9eda7",
        "outputId": "e58900fa-5fd9-4129-9be9-2331f98921d6"
      },
      "outputs": [
        {
          "data": {
            "text/plain": [
              "[1, 3, 4, 4, 3, 4]"
            ]
          },
          "execution_count": 13,
          "metadata": {},
          "output_type": "execute_result"
        }
      ],
      "source": [
        "def Trajectoire(l):\n",
        "    Trajet = []\n",
        "    for l in range(l+1):\n",
        "        Trajet.append(simulationX(np.dot(P_0,np.linalg.matrix_power(P,l))))\n",
        "    return Trajet\n",
        "\n",
        "Trajectoire(5)"
      ]
    },
    {
      "cell_type": "markdown",
      "id": "5551d415",
      "metadata": {
        "id": "5551d415"
      },
      "source": [
        "+ 4- Créer une fonction python qui donne une approximation de la mesure invariante\n",
        "π"
      ]
    },
    {
      "cell_type": "code",
      "execution_count": 14,
      "id": "dc2162fd",
      "metadata": {
        "colab": {
          "base_uri": "https://localhost:8080/"
        },
        "id": "dc2162fd",
        "outputId": "4bf5c385-74bb-4665-c099-fc1f552bd7d8"
      },
      "outputs": [
        {
          "name": "stdout",
          "output_type": "stream",
          "text": [
            "[0.0662956 0.1604178 0.3653498 0.4079368]\n",
            "[0.0682572  0.16655868 0.35815657 0.40702756]\n",
            "[0.0695731  0.17188108 0.35393445 0.40461137]\n",
            "[0.06974442 0.17253523 0.35336503 0.40435532]\n",
            "[0.06989939 0.17312267 0.35284774 0.4041302 ]\n",
            "[0.06991489 0.17318141 0.352796   0.4041077 ]\n"
          ]
        },
        {
          "name": "stdout",
          "output_type": "stream",
          "text": [
            "Une approximation de la distribution statioonaire est:  [0.06991489 0.17318141 0.352796   0.4041077 ]\n"
          ]
        }
      ],
      "source": [
        "def Distrib_Stationnaire(N): #Approximation pour N quelconque\n",
        "\n",
        "    Mat = np.zeros((N,len(P)))\n",
        "    for l in range(1,N+1):\n",
        "        Mat[l-1,:]=np.dot(P_0,np.linalg.matrix_power(P,l)) #Calcul des vecteurs de probab d'états et leur somme.\n",
        "    return np.sum(Mat,axis = 0)/N\n",
        "\n",
        "for i in [5,10,50,100,1000,10000]:\n",
        "    print(Distrib_Stationnaire(i))\n",
        "print(\"Une approximation de la distribution statioonaire est: \", Distrib_Stationnaire(10000))"
      ]
    },
    {
      "cell_type": "code",
      "execution_count": 15,
      "id": "e0c4ad69",
      "metadata": {
        "colab": {
          "base_uri": "https://localhost:8080/"
        },
        "id": "e0c4ad69",
        "outputId": "e567d296-4885-4ea3-f932-c7c888e3da03"
      },
      "outputs": [
        {
          "data": {
            "text/plain": [
              "array([0.06991661, 0.17318794, 0.35279025, 0.4041052 ])"
            ]
          },
          "execution_count": 15,
          "metadata": {},
          "output_type": "execute_result"
        }
      ],
      "source": [
        " # Vérification\n",
        "A = np.array([[1,-0.2,-0.1,0],\n",
        "              [0,0.7,0,-0.3],\n",
        "              [0,0.5,0.9,-1],\n",
        "              [1,1,1,1]])\n",
        "b = [0,0,0,1]\n",
        "pi = np.linalg.solve(A,b)\n",
        "pi\n",
        "\n"
      ]
    },
    {
      "cell_type": "markdown",
      "id": "d4878e72",
      "metadata": {
        "id": "d4878e72"
      },
      "source": [
        "+ 5- Créer une fonction python T (i) qui demande comme argument un état i et qui\n",
        "caractérise le temps de premier retour à l’état i"
      ]
    },
    {
      "cell_type": "code",
      "execution_count": 16,
      "id": "3406a76e",
      "metadata": {
        "colab": {
          "base_uri": "https://localhost:8080/"
        },
        "id": "3406a76e",
        "outputId": "bb315f47-feb4-4d11-c94c-3aa764868b67"
      },
      "outputs": [
        {
          "data": {
            "text/plain": [
              "12"
            ]
          },
          "execution_count": 16,
          "metadata": {},
          "output_type": "execute_result"
        }
      ],
      "source": [
        "\n",
        "# Avec cette fonction la chaîne peut démarrer son évolution de n'importe qu'elle état et donner le temps de 1er retour\n",
        "def T(i):\n",
        "    P_0 = [0.2,0.1,0.4,0.3]\n",
        "    meet_i = []\n",
        "    count=0\n",
        "    k= 0\n",
        "    while True and k<2:\n",
        "        j = simulationX(P_0)\n",
        "        P_0 = np.dot(P_0,P)\n",
        "        count+=1\n",
        "        if j==i:\n",
        "            meet_i.append(count)\n",
        "            k+=1\n",
        "\n",
        "    return meet_i[1]-meet_i[0] \n",
        "\n",
        "T(1)\n"
      ]
    },
    {
      "cell_type": "code",
      "execution_count": 21,
      "id": "12d6fc63",
      "metadata": {},
      "outputs": [
        {
          "data": {
            "text/plain": [
              "23"
            ]
          },
          "execution_count": 21,
          "metadata": {},
          "output_type": "execute_result"
        }
      ],
      "source": [
        "# Cette fonction est équivalente à T(i) sauf qu'ici on impose à la chaîne de démarrer de l'état i.\n",
        "def T_0(i):\n",
        "    P_0 = [0.2,0.1,0.4,0.3]\n",
        "    count=0\n",
        "    while True:\n",
        "        j = simulationX(P_0)\n",
        "        P_0 = np.dot(P_0,P)\n",
        "        if j==i:\n",
        "            break\n",
        "    while simulationX(P_0)!=i:\n",
        "        count += 1\n",
        "        P_0 = np.dot(P_0,P)\n",
        "    \n",
        "    return count\n",
        "\n",
        "T_0(1)"
      ]
    },
    {
      "cell_type": "markdown",
      "id": "f025de52",
      "metadata": {
        "id": "f025de52"
      },
      "source": [
        "+ 6-En utilisant la loi des grandes nombres, donner une approximation de E (T (i)).\n"
      ]
    },
    {
      "cell_type": "code",
      "execution_count": null,
      "id": "ec527a60",
      "metadata": {
        "id": "ec527a60"
      },
      "outputs": [],
      "source": [
        "# Approximation des ET(i)\n",
        "M = 10000 # Nombre de fois simuler\n",
        "def ET(i):\n",
        "    t = 0\n",
        "    for k in range(M):\n",
        "        t+= T(i)\n",
        "    return t/M\n",
        "\n",
        "ET_i = []\n",
        "for i in range(1,len(P_0)+1):\n",
        "    ET_i.append(ET(i))"
      ]
    },
    {
      "cell_type": "code",
      "execution_count": null,
      "id": "56a2fcdc",
      "metadata": {
        "colab": {
          "base_uri": "https://localhost:8080/"
        },
        "id": "56a2fcdc",
        "outputId": "a43d7edf-f4fc-430a-9b81-2793d7e03528"
      },
      "outputs": [
        {
          "name": "stdout",
          "output_type": "stream",
          "text": [
            "[14.6348, 5.7027, 2.7255, 2.4195]\n"
          ]
        }
      ],
      "source": [
        "print(ET_i)"
      ]
    },
    {
      "cell_type": "markdown",
      "id": "701ce45f",
      "metadata": {
        "id": "701ce45f"
      },
      "source": [
        "+ Comparaison entre $\\pi_i$ et $\\frac{1}{E(T(i))}$ pour chaque 1 ≤ i ≤ 4"
      ]
    },
    {
      "cell_type": "code",
      "execution_count": null,
      "id": "8ce1becb",
      "metadata": {
        "colab": {
          "base_uri": "https://localhost:8080/"
        },
        "id": "8ce1becb",
        "outputId": "f27f2f07-298b-44c8-fe95-c7d2aaef17e2"
      },
      "outputs": [
        {
          "name": "stdout",
          "output_type": "stream",
          "text": [
            "Inverse des ET(i) [0.06833028124743762, 0.17535553334385467, 0.36690515501742804, 0.413308534821244]\n",
            "Distribution stationnaire [0.06991489 0.17318141 0.352796   0.4041077 ]\n",
            "Erreur en norme L1 0.027068724089207935\n",
            "Erreur en norme L2 0.017057593766307635\n",
            "Erreur en norme L_infini 0.014109155970267961\n"
          ]
        }
      ],
      "source": [
        "Inv_ET_i = [1/k for k in ET_i]\n",
        "Dist = Distrib_Stationnaire(M)\n",
        "print(\"Inverse des ET(i)\",Inv_ET_i)\n",
        "print(\"Distribution stationnaire\", Dist)\n",
        "print(\"Erreur en norme L1\", np.sum(np.abs(Inv_ET_i-Dist)))\n",
        "print(\"Erreur en norme L2\", np.linalg.norm(Inv_ET_i-Dist))\n",
        "print(\"Erreur en norme L_infini\", np.max(np.abs(Inv_ET_i-Dist)))"
      ]
    },
    {
      "cell_type": "code",
      "execution_count": null,
      "id": "fc5fbf90",
      "metadata": {
        "colab": {
          "base_uri": "https://localhost:8080/",
          "height": 447
        },
        "id": "fc5fbf90",
        "outputId": "b65a68fa-6772-4069-9921-f59d54d125bc"
      },
      "outputs": [
        {
          "data": {
            "text/plain": [
              "<matplotlib.legend.Legend at 0x7f172745bf90>"
            ]
          },
          "execution_count": 20,
          "metadata": {},
          "output_type": "execute_result"
        },
        {
          "data": {
            "image/png": "[encoded data removed]",
            "text/plain": [
              "<Figure size 640x480 with 1 Axes>"
            ]
          },
          "metadata": {},
          "output_type": "display_data"
        }
      ],
      "source": [
        "plt.figure()\n",
        "plt.bar([1,2,3,4],Dist, label = \"distribution exacte\", width=0.8)\n",
        "plt.bar([1,2,3,4],Inv_ET_i, label = \"distribution simulée avec 1/ET(i)\", width=0.6)\n",
        "plt.xticks(ticks=[1,2,3,4], labels=[1,2,3,4])\n",
        "plt.legend()"
      ]
    },
    {
      "cell_type": "markdown",
      "id": "e65057f7",
      "metadata": {
        "id": "e65057f7"
      },
      "source": [
        "# 2 Simulation des lois continues, application de Monte-Carlo."
      ]
    },
    {
      "cell_type": "markdown",
      "id": "b98b9850",
      "metadata": {
        "id": "b98b9850"
      },
      "source": [
        "## 2.1 Simulation d’un couple"
      ]
    },
    {
      "cell_type": "markdown",
      "id": "d1432c78",
      "metadata": {
        "id": "d1432c78"
      },
      "source": [
        "Soit $(X, Y)$ un couple qui suit la loi uniforme sur $B$ avec\n",
        "$B = \\{(x,y)\\in \\mathbb{R}/-\\frac{e^{-\\frac{x^2}{2}}}{\\sqrt{2\\pi}}\\leq y\\leq e^{-|x|}\\}$.\n",
        " > (a) - On a: $$f_X(x) =\\dfrac{1}{3}\\left( \\dfrac{e^{-\\frac{x^2}{2}}}{\\sqrt{2\\pi}}+ e^{-|x|}\\right) $$"
      ]
    },
    {
      "cell_type": "markdown",
      "id": "VgFP1kdgexTj",
      "metadata": {
        "id": "VgFP1kdgexTj"
      },
      "source": [
        "+ En utilisant la méthode de loi inverse, réalisons la simulation de la loi de densité $\\dfrac{1}{2}e^{-|t|}$.\n",
        " La fonction inverse s'écrit: $$F^{-1}(u) =\n",
        "\\begin{cases}\n",
        "    \\log(2u) \\ si \\ 0< u< \\frac{1}{2} \\\\\n",
        "    \\log{(2(1-u))} \\ si \\ \\frac{1}{2} < u < 1\n",
        "\\end{cases}$$"
      ]
    },
    {
      "cell_type": "code",
      "execution_count": null,
      "id": "a7efbb37",
      "metadata": {
        "colab": {
          "base_uri": "https://localhost:8080/"
        },
        "id": "a7efbb37",
        "outputId": "30ac08ee-32e3-44b0-a134-f85f93a0c31e"
      },
      "outputs": [
        {
          "data": {
            "text/plain": [
              "1.3158188943668174"
            ]
          },
          "execution_count": 21,
          "metadata": {},
          "output_type": "execute_result"
        }
      ],
      "source": [
        "\n",
        "# Simultion de la loi de densité f(t)\n",
        "\n",
        "def Law():\n",
        "    u = np.random.uniform()\n",
        "    if 0 < u <0.5:\n",
        "        return np.log(2*u)\n",
        "    elif 0.5 < u < 1:\n",
        "        return -np.log(2*(1-u))\n",
        "# Loi normal centré-réduite\n",
        "\n",
        "def BoxMul():\n",
        "    u = np.random.uniform()\n",
        "    v = np.random.uniform()\n",
        "    return np.sqrt(-2*np.log(u))*np.sin(2*np.pi*v)\n",
        "\n",
        "# Simultion de la loi de densité X\n",
        "\n",
        "def SimulX():\n",
        "    u = np.random.uniform()\n",
        "    if u< 1/3:\n",
        "        return BoxMul()\n",
        "    else:\n",
        "        return Law()\n",
        "\n",
        "SimulX()"
      ]
    },
    {
      "cell_type": "code",
      "execution_count": null,
      "id": "9572c144",
      "metadata": {
        "id": "9572c144",
        "outputId": "5be1ac93-44d3-453c-e018-0deee8d74b36"
      },
      "outputs": [
        {
          "data": {
            "text/plain": [
              "(array([  1.,   0.,   0.,   0.,   4.,   6.,   6.,   6.,   8.,  12.,  12.,\n",
              "         23.,  27.,  21.,  41.,  70.,  65., 111., 101., 106.,  87.,  56.,\n",
              "         74.,  38.,  21.,  27.,  24.,  11.,   8.,   9.,   7.,   4.,   3.,\n",
              "          0.,   2.,   2.,   3.,   1.,   0.,   0.,   0.,   0.,   0.,   0.,\n",
              "          0.,   1.,   0.,   0.,   0.,   2.]),\n",
              " array([-4.99877641e+00, -4.73562166e+00, -4.47246690e+00, -4.20931215e+00,\n",
              "        -3.94615739e+00, -3.68300264e+00, -3.41984788e+00, -3.15669313e+00,\n",
              "        -2.89353837e+00, -2.63038362e+00, -2.36722887e+00, -2.10407411e+00,\n",
              "        -1.84091936e+00, -1.57776460e+00, -1.31460985e+00, -1.05145509e+00,\n",
              "        -7.88300340e-01, -5.25145585e-01, -2.61990831e-01,  1.16392339e-03,\n",
              "         2.64318678e-01,  5.27473432e-01,  7.90628186e-01,  1.05378294e+00,\n",
              "         1.31693770e+00,  1.58009245e+00,  1.84324720e+00,  2.10640196e+00,\n",
              "         2.36955671e+00,  2.63271147e+00,  2.89586622e+00,  3.15902098e+00,\n",
              "         3.42217573e+00,  3.68533048e+00,  3.94848524e+00,  4.21163999e+00,\n",
              "         4.47479475e+00,  4.73794950e+00,  5.00110426e+00,  5.26425901e+00,\n",
              "         5.52741377e+00,  5.79056852e+00,  6.05372327e+00,  6.31687803e+00,\n",
              "         6.58003278e+00,  6.84318754e+00,  7.10634229e+00,  7.36949705e+00,\n",
              "         7.63265180e+00,  7.89580655e+00,  8.15896131e+00]),\n",
              " <BarContainer object of 50 artists>)"
            ]
          },
          "execution_count": 22,
          "metadata": {},
          "output_type": "execute_result"
        },
        {
          "data": {
            "image/png": "[encoded data removed]",
            "text/plain": [
              "<Figure size 640x480 with 1 Axes>"
            ]
          },
          "metadata": {},
          "output_type": "display_data"
        }
      ],
      "source": [
        "X = [SimulX() for _ in range(1000)]\n",
        "plt.hist(X, bins=50, color=\"green\")"
      ]
    },
    {
      "cell_type": "code",
      "execution_count": null,
      "id": "c10751d5",
      "metadata": {
        "id": "c10751d5"
      },
      "outputs": [],
      "source": []
    },
    {
      "cell_type": "markdown",
      "id": "21e4537c",
      "metadata": {
        "id": "21e4537c"
      },
      "source": [
        "+ La simulation de $(X, Y)$"
      ]
    },
    {
      "cell_type": "markdown",
      "id": "JXUpf2BgexTm",
      "metadata": {
        "id": "JXUpf2BgexTm"
      },
      "source": [
        "Puisque le couple $(X,Y)$ suit la loi uniforme sur $B$ alors sa fonction densité s'écrit:\n",
        "$$f_{X,Y}(x,y) = \\dfrac{1}{\\mathcal{S}(B)}\\mathbb{1}_B(x,y)$$\n",
        "$\\mathcal{S}(B) = \\int_{B}dxdy = \\large\\int_{\\mathbb{R}}\\int_{-\\frac{e^{-\\frac{x^2}{2}}}{\\sqrt{2\\pi}}}^{e^{-|x|}}dxdy =\n",
        "\\int_{\\mathbb{R}}\\left( \\dfrac{e^{-\\frac{x^2}{2}}}{\\sqrt{2\\pi}}+ e^{-|x|}\\right)dx=\n",
        " \\int_{\\mathbb{R}}\\left( \\dfrac{e^{-\\frac{x^2}{2}}}{\\sqrt{2\\pi}}+ 2(\\frac{1}{2}e^{-|x|})\\right)dx=3$"
      ]
    },
    {
      "cell_type": "markdown",
      "id": "Vt_0dC_OexTo",
      "metadata": {
        "id": "Vt_0dC_OexTo"
      },
      "source": [
        "$f_{Y/_ {X = x}}(y) = \\dfrac{f_{X,Y}(x,y)}{f_X(x)} = \\dfrac{\\mathbb{1}_{B}(x,y)}{3f_X(x)} =\n",
        "\\dfrac{1}{ \\frac{e^{-\\frac{x^2}{2}}}{\\sqrt{2\\pi}}+\n",
        "e^{-|x|}}\\mathbb{1}_{\\left[-\\frac{e^{-\\frac{x^2}{2}}}{\\sqrt{2\\pi}}, \\ e^{-|x|}\\right]}(y)\n",
        "\\iff Y/_{X=x} \\sim \\mathcal{U}\\left(\\left[-\\frac{e^{-\\frac{x^2}{2}}}{\\sqrt{2\\pi}}, \\ e^{-|x|}\\right]\\right)$"
      ]
    },
    {
      "cell_type": "code",
      "execution_count": null,
      "id": "68a40cef",
      "metadata": {
        "colab": {
          "base_uri": "https://localhost:8080/"
        },
        "id": "68a40cef",
        "outputId": "6f4a0624-6563-44d8-9d91-1096b9a3dab3"
      },
      "outputs": [
        {
          "data": {
            "text/plain": [
              "(0.47002165885274755, 0.14519327524591258)"
            ]
          },
          "execution_count": 23,
          "metadata": {},
          "output_type": "execute_result"
        }
      ],
      "source": [
        "# Y/X=x suit la loi uniform sur [-f_1,f_2]\n",
        "f_1 = lambda x: (np.e**(-(x**2)/2))/(np.sqrt(2*np.pi))\n",
        "f_2 = lambda x: np.e**(-(np.abs(x)))\n",
        "\n",
        "# Simulation du couple (X,Y)\n",
        "\n",
        "def Y_x():\n",
        "    x = SimulX()\n",
        "    a = -f_1(x)\n",
        "    b = f_2(x)\n",
        "    y_x = np.random.uniform(a,b)\n",
        "    return (x,y_x)\n",
        "\n",
        "Y_x()"
      ]
    },
    {
      "cell_type": "code",
      "execution_count": null,
      "id": "3597a86d",
      "metadata": {
        "id": "3597a86d",
        "outputId": "4789c844-4b1e-4de8-94cd-2301509da3e5"
      },
      "outputs": [
        {
          "data": {
            "text/plain": [
              "<matplotlib.legend.Legend at 0x7f1727348250>"
            ]
          },
          "execution_count": 24,
          "metadata": {},
          "output_type": "execute_result"
        },
        {
          "data": {
            "image/png": "[encoded data removed]",
            "text/plain": [
              "<Figure size 640x480 with 1 Axes>"
            ]
          },
          "metadata": {},
          "output_type": "display_data"
        }
      ],
      "source": [
        "## Obervation du couple\n",
        "X_Y = np.zeros((2,1000))\n",
        "for i in range(1000):\n",
        "    X_Y[:,i] = Y_x()\n",
        "\n",
        "plt.scatter(X_Y[0],X_Y[1],color = \"purple\",label= \"Observation du couple (X,Y)\")\n",
        "plt.legend()\n"
      ]
    },
    {
      "cell_type": "markdown",
      "id": "b5bc0e04",
      "metadata": {
        "id": "b5bc0e04"
      },
      "source": [
        "> En utilisant la méthode de Monte Carlo, donnons une approximation de $\\int\\int_{B}e^{-|xy|}dxdy$"
      ]
    },
    {
      "cell_type": "markdown",
      "id": "ee3301a1",
      "metadata": {
        "id": "ee3301a1"
      },
      "source": [
        "$\\int\\int_{B}e^{-|xy|}dxdy = \\int\\int(3e^{-|xy|})\\dfrac{1}{3}\\mathbb{1}_B(x,y)dxdy \\implies\n",
        "\\operatorname{E}(3e^{-|XY|}) \\approx \\dfrac{1}{n}\\sum_{i=1}^{n}3e^{-|x_iy_i|}$\n",
        "+ Les $(x_i,y_i)$ sont des observations du couple $(X,Y)$"
      ]
    },
    {
      "cell_type": "code",
      "execution_count": null,
      "id": "8017ecb4",
      "metadata": {
        "colab": {
          "base_uri": "https://localhost:8080/"
        },
        "id": "8017ecb4",
        "outputId": "7c3ba123-a51e-4253-d68d-000ea690026b"
      },
      "outputs": [
        {
          "data": {
            "text/plain": [
              "2.7011911930429493"
            ]
          },
          "execution_count": 25,
          "metadata": {},
          "output_type": "execute_result"
        }
      ],
      "source": [
        "K = 10000\n",
        "Approx_val = 0\n",
        "for i in range(K):\n",
        "    x,y = Y_x()\n",
        "    Approx_val += (1/K)*3*np.e**(-np.abs(x*y))\n",
        "\n",
        "Approx_val"
      ]
    },
    {
      "cell_type": "markdown",
      "id": "1Vl3WRwjf_BN",
      "metadata": {
        "id": "1Vl3WRwjf_BN"
      },
      "source": [
        "## 2.2 La croissance Bactérienne :Escherichia coli (EC)"
      ]
    },
    {
      "cell_type": "markdown",
      "id": "YloBbeGfRW9u",
      "metadata": {
        "id": "YloBbeGfRW9u"
      },
      "source": [
        "![](https://th.bing.com/th/id/R.624359a328291c52599276f8bbcb5f4e?rik=Y1CDyyrognXeyg&riu=http%3a%2f%2fwww.qsstudy.com%2fwp-content%2fuploads%2f2017%2f07%2fCell-division.jpg&ehk=Z5T2gOZbntdl2MvwPWJYxZYMYHQQPVjdkKFZMaDAO%2bE%3d&risl=&pid=ImgRaw&r=0)"
      ]
    },
    {
      "cell_type": "markdown",
      "id": "e5ed6acd",
      "metadata": {
        "id": "e5ed6acd"
      },
      "source": [
        "+ 1- Réalisons la simulation de la loi exponentielle de paramètre $\\dfrac{1}{20}$."
      ]
    },
    {
      "cell_type": "code",
      "execution_count": null,
      "id": "be591a4c",
      "metadata": {
        "id": "be591a4c"
      },
      "outputs": [],
      "source": [
        "def Exp(param):\n",
        "    u = np.random.uniform(0,1)\n",
        "    return (-np.log(1-u)/param)\n"
      ]
    },
    {
      "cell_type": "code",
      "execution_count": null,
      "id": "bd41c04a",
      "metadata": {
        "id": "bd41c04a",
        "outputId": "026cfb55-f8e7-4172-d38e-aa044e179f64"
      },
      "outputs": [
        {
          "data": {
            "text/plain": [
              "<matplotlib.legend.Legend at 0x7f1727288250>"
            ]
          },
          "execution_count": 27,
          "metadata": {},
          "output_type": "execute_result"
        },
        {
          "data": {
            "image/png": "[encoded data removed]",
            "text/plain": [
              "<Figure size 640x480 with 1 Axes>"
            ]
          },
          "metadata": {},
          "output_type": "display_data"
        }
      ],
      "source": [
        "## Observations de X\n",
        "exp = [Exp(1/20) for _ in range(1000)]\n",
        "plt.hist(exp,color=\"green\", label=\"Loi exponentielle\", bins=50, alpha = 0.9)\n",
        "plt.legend()"
      ]
    },
    {
      "cell_type": "markdown",
      "id": "00f62291",
      "metadata": {
        "id": "00f62291"
      },
      "source": [
        "+ Donnons l’instant de premier division\n"
      ]
    },
    {
      "cell_type": "code",
      "execution_count": null,
      "id": "3252dbc9",
      "metadata": {
        "colab": {
          "base_uri": "https://localhost:8080/"
        },
        "id": "3252dbc9",
        "outputId": "81c966e1-d26f-41a7-9f67-f6d354998b0d"
      },
      "outputs": [
        {
          "data": {
            "text/plain": [
              "11.94554743706294"
            ]
          },
          "execution_count": 28,
          "metadata": {},
          "output_type": "execute_result"
        }
      ],
      "source": [
        "t = Exp(1/20)\n",
        "t"
      ]
    },
    {
      "cell_type": "markdown",
      "id": "19a8c916",
      "metadata": {
        "id": "19a8c916"
      },
      "source": [
        "+ 2- Donner l’instant auquel la cellule 1 va se deviser et l’instant correspondante à la\n",
        "deuxième cellule."
      ]
    },
    {
      "cell_type": "code",
      "execution_count": null,
      "id": "2843c512",
      "metadata": {
        "colab": {
          "base_uri": "https://localhost:8080/"
        },
        "id": "2843c512",
        "outputId": "21c99fb9-8b6a-4e4d-8f50-8ee819778be6"
      },
      "outputs": [
        {
          "name": "stdout",
          "output_type": "stream",
          "text": [
            "La cellule 1 va se diviser à l'instant58.89231878797142\n",
            "La cellule 2 va se diviser à l'instant17.890698822978038\n"
          ]
        }
      ],
      "source": [
        "t_1 = t+Exp(1/20)\n",
        "t_2 = t+Exp(1/20)\n",
        "print(f\"La cellule 1 va se diviser à l'instant{t_1}\")\n",
        "print(f\"La cellule 2 va se diviser à l'instant{t_2}\")"
      ]
    },
    {
      "cell_type": "markdown",
      "id": "0d6c81d6",
      "metadata": {
        "id": "0d6c81d6"
      },
      "source": [
        "+ 3- Donner tous les instants, entre 0 et 1000, auxquels une division cellulaire aura lieu."
      ]
    },
    {
      "cell_type": "code",
      "execution_count": null,
      "id": "LzKwAsLmexT-",
      "metadata": {
        "colab": {
          "base_uri": "https://localhost:8080/"
        },
        "id": "LzKwAsLmexT-",
        "outputId": "697ae1f3-8fab-491c-9705-6bd8b24feda2"
      },
      "outputs": [
        {
          "data": {
            "text/plain": [
              "[14.508006540806528,\n",
              " 28.026464550314106,\n",
              " 36.35689796410293,\n",
              " 104.57081536460116,\n",
              " 127.5065675458314,\n",
              " 128.031092182675,\n",
              " 150.4248541498211,\n",
              " 155.1174273879281,\n",
              " 158.72858238017426,\n",
              " 160.76754739578547,\n",
              " 161.24872837061187,\n",
              " 200.47174115869302,\n",
              " 211.77593200095097,\n",
              " 236.49270695055674,\n",
              " 237.63822222264614,\n",
              " 253.36004202801115,\n",
              " 353.97192898581517,\n",
              " 359.09175569847724,\n",
              " 373.3995925984317,\n",
              " 450.43192533613643,\n",
              " 459.2755342481245,\n",
              " 503.44794284523783,\n",
              " 564.767430291231,\n",
              " 593.169284867629,\n",
              " 594.5011070203943,\n",
              " 636.1255070140791,\n",
              " 651.175382187541,\n",
              " 728.8513328493368,\n",
              " 751.5723634847978,\n",
              " 775.1990773328907,\n",
              " 858.2765945784904,\n",
              " 862.8764753518313,\n",
              " 896.0896836680565,\n",
              " 905.283170980733,\n",
              " 922.43693911736,\n",
              " 929.6923115376784,\n",
              " 943.2109914254393,\n",
              " 946.2014161026866,\n",
              " 957.8399218936806,\n",
              " 974.9284466566043,\n",
              " 998.771067857255,\n",
              " 1018.1687325208211]"
            ]
          },
          "execution_count": 30,
          "metadata": {},
          "output_type": "execute_result"
        }
      ],
      "source": [
        "Tmax = 1000\n",
        "def T_div(Tmax):\n",
        "    times_div = []\n",
        "    t=0\n",
        "    while t<Tmax:\n",
        "        t+= Exp(1/20)\n",
        "        times_div.append(t)\n",
        "    return times_div\n",
        "\n",
        "T_div(Tmax)"
      ]
    },
    {
      "cell_type": "markdown",
      "id": "897df587",
      "metadata": {
        "id": "897df587"
      },
      "source": [
        "+ 4- Soit $N(t)$ le nombre de cellules dans le milieu à l’instant t, tracer la\n",
        "courbe $(t, N(t))$ avec $0 \\leq t \\leq 1000$."
      ]
    },
    {
      "cell_type": "code",
      "execution_count": null,
      "id": "89bb23dd",
      "metadata": {
        "colab": {
          "base_uri": "https://localhost:8080/",
          "height": 447
        },
        "id": "89bb23dd",
        "outputId": "ce20615b-dcbd-40dd-c65e-a11596748e95"
      },
      "outputs": [
        {
          "data": {
            "text/plain": [
              "<matplotlib.legend.Legend at 0x7f17272eb350>"
            ]
          },
          "execution_count": 31,
          "metadata": {},
          "output_type": "execute_result"
        },
        {
          "data": {
            "image/png": "[encoded data removed]",
            "text/plain": [
              "<Figure size 640x480 with 1 Axes>"
            ]
          },
          "metadata": {},
          "output_type": "display_data"
        }
      ],
      "source": [
        "Inst_div = T_div(Tmax)\n",
        "Nbre_cel = []\n",
        "k=0\n",
        "for k in range(len(Inst_div)):\n",
        "    Nbre_cel.append(k+1)\n",
        "\n",
        "plt.plot(Inst_div,Nbre_cel, label = \"Evolution du nombre de cellules dans le milieu\")\n",
        "plt.legend()"
      ]
    },
    {
      "cell_type": "code",
      "execution_count": null,
      "id": "36024c70",
      "metadata": {
        "id": "36024c70"
      },
      "outputs": [],
      "source": []
    }
  ],
  "metadata": {
    "colab": {
      "provenance": []
    },
    "kernelspec": {
      "display_name": "Python 3 (ipykernel)",
      "language": "python",
      "name": "python3"
    },
    "language_info": {
      "codemirror_mode": {
        "name": "ipython",
        "version": 3
      },
      "file_extension": ".py",
      "mimetype": "text/x-python",
      "name": "python",
      "nbconvert_exporter": "python",
      "pygments_lexer": "ipython3",
      "version": "3.11.5"
    }
  },
  "nbformat": 4,
  "nbformat_minor": 5
}
